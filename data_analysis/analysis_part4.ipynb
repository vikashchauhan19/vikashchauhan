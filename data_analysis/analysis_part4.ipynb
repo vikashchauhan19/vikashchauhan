{
 "cells": [
  {
   "cell_type": "code",
   "execution_count": 2,
   "metadata": {},
   "outputs": [],
   "source": [
    "import pandas as pd\n",
    "import numpy as  np\n",
    "import matplotlib.pyplot as plt"
   ]
  },
  {
   "cell_type": "code",
   "execution_count": 3,
   "metadata": {},
   "outputs": [],
   "source": [
    "df = pd.read_csv('data/flipkart.csv')"
   ]
  },
  {
   "cell_type": "code",
   "execution_count": 4,
   "metadata": {},
   "outputs": [
    {
     "data": {
      "text/plain": [
       "name             80\n",
       "s_price          80\n",
       "o_price         104\n",
       "rating          307\n",
       "rating_count    307\n",
       "dtype: int64"
      ]
     },
     "execution_count": 4,
     "metadata": {},
     "output_type": "execute_result"
    }
   ],
   "source": [
    "df.isnull().sum()"
   ]
  },
  {
   "cell_type": "code",
   "execution_count": 5,
   "metadata": {},
   "outputs": [
    {
     "name": "stdout",
     "output_type": "stream",
     "text": [
      "<class 'pandas.core.frame.DataFrame'>\n",
      "RangeIndex: 1064 entries, 0 to 1063\n",
      "Data columns (total 5 columns):\n",
      " #   Column        Non-Null Count  Dtype  \n",
      "---  ------        --------------  -----  \n",
      " 0   name          984 non-null    object \n",
      " 1   s_price       984 non-null    object \n",
      " 2   o_price       960 non-null    object \n",
      " 3   rating        757 non-null    float64\n",
      " 4   rating_count  757 non-null    object \n",
      "dtypes: float64(1), object(4)\n",
      "memory usage: 41.7+ KB\n"
     ]
    }
   ],
   "source": [
    "df.info()"
   ]
  },
  {
   "cell_type": "code",
   "execution_count": 6,
   "metadata": {},
   "outputs": [
    {
     "data": {
      "text/html": [
       "<div>\n",
       "<style scoped>\n",
       "    .dataframe tbody tr th:only-of-type {\n",
       "        vertical-align: middle;\n",
       "    }\n",
       "\n",
       "    .dataframe tbody tr th {\n",
       "        vertical-align: top;\n",
       "    }\n",
       "\n",
       "    .dataframe thead th {\n",
       "        text-align: right;\n",
       "    }\n",
       "</style>\n",
       "<table border=\"1\" class=\"dataframe\">\n",
       "  <thead>\n",
       "    <tr style=\"text-align: right;\">\n",
       "      <th></th>\n",
       "      <th>name</th>\n",
       "      <th>s_price</th>\n",
       "      <th>o_price</th>\n",
       "      <th>rating</th>\n",
       "      <th>rating_count</th>\n",
       "    </tr>\n",
       "  </thead>\n",
       "  <tbody>\n",
       "    <tr>\n",
       "      <th>0</th>\n",
       "      <td>Adsun Smart Series 60 cm (24 inch) HD Ready LE...</td>\n",
       "      <td>₹6,649</td>\n",
       "      <td>₹18,999</td>\n",
       "      <td>3.8</td>\n",
       "      <td>13,066 Ratings &amp; 1,860 Reviews</td>\n",
       "    </tr>\n",
       "    <tr>\n",
       "      <th>1</th>\n",
       "      <td>Adsun Frameless 80 cm (32 inch) HD Ready LED S...</td>\n",
       "      <td>₹8,549</td>\n",
       "      <td>₹29,999</td>\n",
       "      <td>3.8</td>\n",
       "      <td>13,066 Ratings &amp; 1,860 Reviews</td>\n",
       "    </tr>\n",
       "    <tr>\n",
       "      <th>2</th>\n",
       "      <td>SAMSUNG 80 cm (32 Inch) HD Ready LED Smart Tiz...</td>\n",
       "      <td>₹13,490</td>\n",
       "      <td>₹18,900</td>\n",
       "      <td>4.3</td>\n",
       "      <td>70,154 Ratings &amp; 6,232 Reviews</td>\n",
       "    </tr>\n",
       "    <tr>\n",
       "      <th>3</th>\n",
       "      <td>Mi 5A 80 cm (32 inch) HD Ready LED Smart Andro...</td>\n",
       "      <td>₹13,999</td>\n",
       "      <td>₹24,999</td>\n",
       "      <td>4.4</td>\n",
       "      <td>3,23,612 Ratings &amp; 30,752 Reviews</td>\n",
       "    </tr>\n",
       "    <tr>\n",
       "      <th>4</th>\n",
       "      <td>Infinix Y1 80 cm (32 inch) HD Ready LED Smart ...</td>\n",
       "      <td>₹8,999</td>\n",
       "      <td>₹16,999</td>\n",
       "      <td>4.2</td>\n",
       "      <td>8,481 Ratings &amp; 1,271 Reviews</td>\n",
       "    </tr>\n",
       "    <tr>\n",
       "      <th>...</th>\n",
       "      <td>...</td>\n",
       "      <td>...</td>\n",
       "      <td>...</td>\n",
       "      <td>...</td>\n",
       "      <td>...</td>\n",
       "    </tr>\n",
       "    <tr>\n",
       "      <th>1057</th>\n",
       "      <td>LG 165.1 cm (65 inch) Ultra HD (4K) LED Smart ...</td>\n",
       "      <td>₹83,859</td>\n",
       "      <td>₹1,49,990</td>\n",
       "      <td>NaN</td>\n",
       "      <td>NaN</td>\n",
       "    </tr>\n",
       "    <tr>\n",
       "      <th>1058</th>\n",
       "      <td>Dyanora 80 cm (32 inch) HD Ready LED Smart And...</td>\n",
       "      <td>₹8,699</td>\n",
       "      <td>₹18,999</td>\n",
       "      <td>4.1</td>\n",
       "      <td>3,682 Ratings &amp; 476 Reviews</td>\n",
       "    </tr>\n",
       "    <tr>\n",
       "      <th>1059</th>\n",
       "      <td>Dyanora 108 cm (43 inch) Full HD LED Smart And...</td>\n",
       "      <td>₹15,999</td>\n",
       "      <td>₹32,999</td>\n",
       "      <td>4.1</td>\n",
       "      <td>3,682 Ratings &amp; 476 Reviews</td>\n",
       "    </tr>\n",
       "    <tr>\n",
       "      <th>1060</th>\n",
       "      <td>LG 108 cm (43 inch) Ultra HD (4K) LED Smart We...</td>\n",
       "      <td>₹47,192</td>\n",
       "      <td>₹58,990</td>\n",
       "      <td>4.5</td>\n",
       "      <td>327 Ratings &amp; 52 Reviews</td>\n",
       "    </tr>\n",
       "    <tr>\n",
       "      <th>1061</th>\n",
       "      <td>SAMSUNG QN90BAK 216 cm (85 inch) QLED Ultra HD...</td>\n",
       "      <td>₹6,09,990</td>\n",
       "      <td>₹8,79,900</td>\n",
       "      <td>NaN</td>\n",
       "      <td>NaN</td>\n",
       "    </tr>\n",
       "  </tbody>\n",
       "</table>\n",
       "<p>984 rows × 5 columns</p>\n",
       "</div>"
      ],
      "text/plain": [
       "                                                   name    s_price    o_price  \\\n",
       "0     Adsun Smart Series 60 cm (24 inch) HD Ready LE...     ₹6,649    ₹18,999   \n",
       "1     Adsun Frameless 80 cm (32 inch) HD Ready LED S...     ₹8,549    ₹29,999   \n",
       "2     SAMSUNG 80 cm (32 Inch) HD Ready LED Smart Tiz...    ₹13,490    ₹18,900   \n",
       "3     Mi 5A 80 cm (32 inch) HD Ready LED Smart Andro...    ₹13,999    ₹24,999   \n",
       "4     Infinix Y1 80 cm (32 inch) HD Ready LED Smart ...     ₹8,999    ₹16,999   \n",
       "...                                                 ...        ...        ...   \n",
       "1057  LG 165.1 cm (65 inch) Ultra HD (4K) LED Smart ...    ₹83,859  ₹1,49,990   \n",
       "1058  Dyanora 80 cm (32 inch) HD Ready LED Smart And...     ₹8,699    ₹18,999   \n",
       "1059  Dyanora 108 cm (43 inch) Full HD LED Smart And...    ₹15,999    ₹32,999   \n",
       "1060  LG 108 cm (43 inch) Ultra HD (4K) LED Smart We...    ₹47,192    ₹58,990   \n",
       "1061  SAMSUNG QN90BAK 216 cm (85 inch) QLED Ultra HD...  ₹6,09,990  ₹8,79,900   \n",
       "\n",
       "      rating                       rating_count  \n",
       "0        3.8     13,066 Ratings & 1,860 Reviews  \n",
       "1        3.8     13,066 Ratings & 1,860 Reviews  \n",
       "2        4.3     70,154 Ratings & 6,232 Reviews  \n",
       "3        4.4  3,23,612 Ratings & 30,752 Reviews  \n",
       "4        4.2      8,481 Ratings & 1,271 Reviews  \n",
       "...      ...                                ...  \n",
       "1057     NaN                                NaN  \n",
       "1058     4.1        3,682 Ratings & 476 Reviews  \n",
       "1059     4.1        3,682 Ratings & 476 Reviews  \n",
       "1060     4.5           327 Ratings & 52 Reviews  \n",
       "1061     NaN                                NaN  \n",
       "\n",
       "[984 rows x 5 columns]"
      ]
     },
     "execution_count": 6,
     "metadata": {},
     "output_type": "execute_result"
    }
   ],
   "source": [
    "df.dropna(how= 'all') # if any row has all null values, then drop it, # any use remove if any missing values id their"
   ]
  },
  {
   "cell_type": "code",
   "execution_count": 7,
   "metadata": {},
   "outputs": [],
   "source": [
    "df['s_price'] = df['s_price'].apply(lambda p: str(p).replace('₹','').replace(',','')).astype(float)\n",
    "df['o_price'] = df['o_price'].apply(lambda p: str(p).replace('₹','').replace(',','')).astype(float)"
   ]
  },
  {
   "cell_type": "markdown",
   "metadata": {},
   "source": [
    "nan is convert into only in float not in integer"
   ]
  },
  {
   "cell_type": "code",
   "execution_count": 8,
   "metadata": {},
   "outputs": [
    {
     "data": {
      "text/html": [
       "<div>\n",
       "<style scoped>\n",
       "    .dataframe tbody tr th:only-of-type {\n",
       "        vertical-align: middle;\n",
       "    }\n",
       "\n",
       "    .dataframe tbody tr th {\n",
       "        vertical-align: top;\n",
       "    }\n",
       "\n",
       "    .dataframe thead th {\n",
       "        text-align: right;\n",
       "    }\n",
       "</style>\n",
       "<table border=\"1\" class=\"dataframe\">\n",
       "  <thead>\n",
       "    <tr style=\"text-align: right;\">\n",
       "      <th></th>\n",
       "      <th>name</th>\n",
       "      <th>s_price</th>\n",
       "      <th>o_price</th>\n",
       "      <th>rating</th>\n",
       "      <th>rating_count</th>\n",
       "    </tr>\n",
       "  </thead>\n",
       "  <tbody>\n",
       "    <tr>\n",
       "      <th>0</th>\n",
       "      <td>Adsun Smart Series 60 cm (24 inch) HD Ready LE...</td>\n",
       "      <td>6649.0</td>\n",
       "      <td>18999.0</td>\n",
       "      <td>3.8</td>\n",
       "      <td>13,066 Ratings &amp; 1,860 Reviews</td>\n",
       "    </tr>\n",
       "    <tr>\n",
       "      <th>1</th>\n",
       "      <td>Adsun Frameless 80 cm (32 inch) HD Ready LED S...</td>\n",
       "      <td>8549.0</td>\n",
       "      <td>29999.0</td>\n",
       "      <td>3.8</td>\n",
       "      <td>13,066 Ratings &amp; 1,860 Reviews</td>\n",
       "    </tr>\n",
       "    <tr>\n",
       "      <th>2</th>\n",
       "      <td>SAMSUNG 80 cm (32 Inch) HD Ready LED Smart Tiz...</td>\n",
       "      <td>13490.0</td>\n",
       "      <td>18900.0</td>\n",
       "      <td>4.3</td>\n",
       "      <td>70,154 Ratings &amp; 6,232 Reviews</td>\n",
       "    </tr>\n",
       "    <tr>\n",
       "      <th>3</th>\n",
       "      <td>Mi 5A 80 cm (32 inch) HD Ready LED Smart Andro...</td>\n",
       "      <td>13999.0</td>\n",
       "      <td>24999.0</td>\n",
       "      <td>4.4</td>\n",
       "      <td>3,23,612 Ratings &amp; 30,752 Reviews</td>\n",
       "    </tr>\n",
       "    <tr>\n",
       "      <th>4</th>\n",
       "      <td>Infinix Y1 80 cm (32 inch) HD Ready LED Smart ...</td>\n",
       "      <td>8999.0</td>\n",
       "      <td>16999.0</td>\n",
       "      <td>4.2</td>\n",
       "      <td>8,481 Ratings &amp; 1,271 Reviews</td>\n",
       "    </tr>\n",
       "    <tr>\n",
       "      <th>...</th>\n",
       "      <td>...</td>\n",
       "      <td>...</td>\n",
       "      <td>...</td>\n",
       "      <td>...</td>\n",
       "      <td>...</td>\n",
       "    </tr>\n",
       "    <tr>\n",
       "      <th>1059</th>\n",
       "      <td>Dyanora 108 cm (43 inch) Full HD LED Smart And...</td>\n",
       "      <td>15999.0</td>\n",
       "      <td>32999.0</td>\n",
       "      <td>4.1</td>\n",
       "      <td>3,682 Ratings &amp; 476 Reviews</td>\n",
       "    </tr>\n",
       "    <tr>\n",
       "      <th>1060</th>\n",
       "      <td>LG 108 cm (43 inch) Ultra HD (4K) LED Smart We...</td>\n",
       "      <td>47192.0</td>\n",
       "      <td>58990.0</td>\n",
       "      <td>4.5</td>\n",
       "      <td>327 Ratings &amp; 52 Reviews</td>\n",
       "    </tr>\n",
       "    <tr>\n",
       "      <th>1061</th>\n",
       "      <td>SAMSUNG QN90BAK 216 cm (85 inch) QLED Ultra HD...</td>\n",
       "      <td>609990.0</td>\n",
       "      <td>879900.0</td>\n",
       "      <td>NaN</td>\n",
       "      <td>NaN</td>\n",
       "    </tr>\n",
       "    <tr>\n",
       "      <th>1062</th>\n",
       "      <td>NaN</td>\n",
       "      <td>NaN</td>\n",
       "      <td>NaN</td>\n",
       "      <td>NaN</td>\n",
       "      <td>NaN</td>\n",
       "    </tr>\n",
       "    <tr>\n",
       "      <th>1063</th>\n",
       "      <td>NaN</td>\n",
       "      <td>NaN</td>\n",
       "      <td>NaN</td>\n",
       "      <td>NaN</td>\n",
       "      <td>NaN</td>\n",
       "    </tr>\n",
       "  </tbody>\n",
       "</table>\n",
       "<p>1064 rows × 5 columns</p>\n",
       "</div>"
      ],
      "text/plain": [
       "                                                   name   s_price   o_price  \\\n",
       "0     Adsun Smart Series 60 cm (24 inch) HD Ready LE...    6649.0   18999.0   \n",
       "1     Adsun Frameless 80 cm (32 inch) HD Ready LED S...    8549.0   29999.0   \n",
       "2     SAMSUNG 80 cm (32 Inch) HD Ready LED Smart Tiz...   13490.0   18900.0   \n",
       "3     Mi 5A 80 cm (32 inch) HD Ready LED Smart Andro...   13999.0   24999.0   \n",
       "4     Infinix Y1 80 cm (32 inch) HD Ready LED Smart ...    8999.0   16999.0   \n",
       "...                                                 ...       ...       ...   \n",
       "1059  Dyanora 108 cm (43 inch) Full HD LED Smart And...   15999.0   32999.0   \n",
       "1060  LG 108 cm (43 inch) Ultra HD (4K) LED Smart We...   47192.0   58990.0   \n",
       "1061  SAMSUNG QN90BAK 216 cm (85 inch) QLED Ultra HD...  609990.0  879900.0   \n",
       "1062                                                NaN       NaN       NaN   \n",
       "1063                                                NaN       NaN       NaN   \n",
       "\n",
       "      rating                       rating_count  \n",
       "0        3.8     13,066 Ratings & 1,860 Reviews  \n",
       "1        3.8     13,066 Ratings & 1,860 Reviews  \n",
       "2        4.3     70,154 Ratings & 6,232 Reviews  \n",
       "3        4.4  3,23,612 Ratings & 30,752 Reviews  \n",
       "4        4.2      8,481 Ratings & 1,271 Reviews  \n",
       "...      ...                                ...  \n",
       "1059     4.1        3,682 Ratings & 476 Reviews  \n",
       "1060     4.5           327 Ratings & 52 Reviews  \n",
       "1061     NaN                                NaN  \n",
       "1062     NaN                                NaN  \n",
       "1063     NaN                                NaN  \n",
       "\n",
       "[1064 rows x 5 columns]"
      ]
     },
     "execution_count": 8,
     "metadata": {},
     "output_type": "execute_result"
    }
   ],
   "source": [
    "df"
   ]
  },
  {
   "cell_type": "code",
   "execution_count": 9,
   "metadata": {},
   "outputs": [],
   "source": [
    "pd.set_option('display.max_colwidth', None)  # optional setting to display text in a column"
   ]
  },
  {
   "cell_type": "code",
   "execution_count": 10,
   "metadata": {},
   "outputs": [
    {
     "data": {
      "text/plain": [
       "0         (1860, 13066)\n",
       "1         (1860, 13066)\n",
       "2         (6232, 70154)\n",
       "3       (30752, 323612)\n",
       "4          (1271, 8481)\n",
       "             ...       \n",
       "1059        (476, 3682)\n",
       "1060          (52, 327)\n",
       "1061                NaN\n",
       "1062                NaN\n",
       "1063                NaN\n",
       "Name: rating_count, Length: 1064, dtype: object"
      ]
     },
     "execution_count": 10,
     "metadata": {},
     "output_type": "execute_result"
    }
   ],
   "source": [
    "def clean_rating_count(value):\n",
    "    if isinstance(value, float):\n",
    "        return value\n",
    "    value_parts = value.split()\n",
    "    num_rating = value_parts[0].replace(',','')\n",
    "    num_reviews = value_parts[3].replace(',','')\n",
    "    return num_reviews, num_rating\n",
    "\n",
    "df ['rating_count'].apply(clean_rating_count) # test run"
   ]
  },
  {
   "cell_type": "code",
   "execution_count": 11,
   "metadata": {},
   "outputs": [
    {
     "data": {
      "text/html": [
       "<div>\n",
       "<style scoped>\n",
       "    .dataframe tbody tr th:only-of-type {\n",
       "        vertical-align: middle;\n",
       "    }\n",
       "\n",
       "    .dataframe tbody tr th {\n",
       "        vertical-align: top;\n",
       "    }\n",
       "\n",
       "    .dataframe thead th {\n",
       "        text-align: right;\n",
       "    }\n",
       "</style>\n",
       "<table border=\"1\" class=\"dataframe\">\n",
       "  <thead>\n",
       "    <tr style=\"text-align: right;\">\n",
       "      <th></th>\n",
       "      <th>0</th>\n",
       "      <th>1</th>\n",
       "    </tr>\n",
       "  </thead>\n",
       "  <tbody>\n",
       "    <tr>\n",
       "      <th>0</th>\n",
       "      <td>1860</td>\n",
       "      <td>13066</td>\n",
       "    </tr>\n",
       "    <tr>\n",
       "      <th>1</th>\n",
       "      <td>1860</td>\n",
       "      <td>13066</td>\n",
       "    </tr>\n",
       "    <tr>\n",
       "      <th>2</th>\n",
       "      <td>6232</td>\n",
       "      <td>70154</td>\n",
       "    </tr>\n",
       "    <tr>\n",
       "      <th>3</th>\n",
       "      <td>30752</td>\n",
       "      <td>323612</td>\n",
       "    </tr>\n",
       "    <tr>\n",
       "      <th>4</th>\n",
       "      <td>1271</td>\n",
       "      <td>8481</td>\n",
       "    </tr>\n",
       "    <tr>\n",
       "      <th>...</th>\n",
       "      <td>...</td>\n",
       "      <td>...</td>\n",
       "    </tr>\n",
       "    <tr>\n",
       "      <th>1059</th>\n",
       "      <td>476</td>\n",
       "      <td>3682</td>\n",
       "    </tr>\n",
       "    <tr>\n",
       "      <th>1060</th>\n",
       "      <td>52</td>\n",
       "      <td>327</td>\n",
       "    </tr>\n",
       "    <tr>\n",
       "      <th>1061</th>\n",
       "      <td>NaN</td>\n",
       "      <td>NaN</td>\n",
       "    </tr>\n",
       "    <tr>\n",
       "      <th>1062</th>\n",
       "      <td>NaN</td>\n",
       "      <td>NaN</td>\n",
       "    </tr>\n",
       "    <tr>\n",
       "      <th>1063</th>\n",
       "      <td>NaN</td>\n",
       "      <td>NaN</td>\n",
       "    </tr>\n",
       "  </tbody>\n",
       "</table>\n",
       "<p>1064 rows × 2 columns</p>\n",
       "</div>"
      ],
      "text/plain": [
       "          0       1\n",
       "0      1860   13066\n",
       "1      1860   13066\n",
       "2      6232   70154\n",
       "3     30752  323612\n",
       "4      1271    8481\n",
       "...     ...     ...\n",
       "1059    476    3682\n",
       "1060     52     327\n",
       "1061    NaN     NaN\n",
       "1062    NaN     NaN\n",
       "1063    NaN     NaN\n",
       "\n",
       "[1064 rows x 2 columns]"
      ]
     },
     "execution_count": 11,
     "metadata": {},
     "output_type": "execute_result"
    }
   ],
   "source": [
    "df ['rating_count'].apply(clean_rating_count).apply(pd.Series) # test run for columns"
   ]
  },
  {
   "cell_type": "code",
   "execution_count": 12,
   "metadata": {},
   "outputs": [],
   "source": [
    "df[['num_rating','num_reviews']]= df ['rating_count'].apply(clean_rating_count).apply(pd.Series)"
   ]
  },
  {
   "cell_type": "code",
   "execution_count": 13,
   "metadata": {},
   "outputs": [],
   "source": [
    "df.drop(columns=['rating_count'], inplace= True)"
   ]
  },
  {
   "cell_type": "code",
   "execution_count": 14,
   "metadata": {},
   "outputs": [
    {
     "data": {
      "text/html": [
       "<div>\n",
       "<style scoped>\n",
       "    .dataframe tbody tr th:only-of-type {\n",
       "        vertical-align: middle;\n",
       "    }\n",
       "\n",
       "    .dataframe tbody tr th {\n",
       "        vertical-align: top;\n",
       "    }\n",
       "\n",
       "    .dataframe thead th {\n",
       "        text-align: right;\n",
       "    }\n",
       "</style>\n",
       "<table border=\"1\" class=\"dataframe\">\n",
       "  <thead>\n",
       "    <tr style=\"text-align: right;\">\n",
       "      <th></th>\n",
       "      <th>name</th>\n",
       "      <th>s_price</th>\n",
       "      <th>o_price</th>\n",
       "      <th>rating</th>\n",
       "      <th>num_rating</th>\n",
       "      <th>num_reviews</th>\n",
       "    </tr>\n",
       "  </thead>\n",
       "  <tbody>\n",
       "    <tr>\n",
       "      <th>0</th>\n",
       "      <td>Adsun Smart Series 60 cm (24 inch) HD Ready LED Smart Android Based TV</td>\n",
       "      <td>6649.0</td>\n",
       "      <td>18999.0</td>\n",
       "      <td>3.8</td>\n",
       "      <td>1860</td>\n",
       "      <td>13066</td>\n",
       "    </tr>\n",
       "    <tr>\n",
       "      <th>1</th>\n",
       "      <td>Adsun Frameless 80 cm (32 inch) HD Ready LED Smart Android Based TV</td>\n",
       "      <td>8549.0</td>\n",
       "      <td>29999.0</td>\n",
       "      <td>3.8</td>\n",
       "      <td>1860</td>\n",
       "      <td>13066</td>\n",
       "    </tr>\n",
       "    <tr>\n",
       "      <th>2</th>\n",
       "      <td>SAMSUNG 80 cm (32 Inch) HD Ready LED Smart Tizen TV with 2022 Model</td>\n",
       "      <td>13490.0</td>\n",
       "      <td>18900.0</td>\n",
       "      <td>4.3</td>\n",
       "      <td>6232</td>\n",
       "      <td>70154</td>\n",
       "    </tr>\n",
       "    <tr>\n",
       "      <th>3</th>\n",
       "      <td>Mi 5A 80 cm (32 inch) HD Ready LED Smart Android TV with Dolby Audio (2022 Model)</td>\n",
       "      <td>13999.0</td>\n",
       "      <td>24999.0</td>\n",
       "      <td>4.4</td>\n",
       "      <td>30752</td>\n",
       "      <td>323612</td>\n",
       "    </tr>\n",
       "    <tr>\n",
       "      <th>4</th>\n",
       "      <td>Infinix Y1 80 cm (32 inch) HD Ready LED Smart Linux TV</td>\n",
       "      <td>8999.0</td>\n",
       "      <td>16999.0</td>\n",
       "      <td>4.2</td>\n",
       "      <td>1271</td>\n",
       "      <td>8481</td>\n",
       "    </tr>\n",
       "  </tbody>\n",
       "</table>\n",
       "</div>"
      ],
      "text/plain": [
       "                                                                                name  \\\n",
       "0             Adsun Smart Series 60 cm (24 inch) HD Ready LED Smart Android Based TV   \n",
       "1                Adsun Frameless 80 cm (32 inch) HD Ready LED Smart Android Based TV   \n",
       "2                SAMSUNG 80 cm (32 Inch) HD Ready LED Smart Tizen TV with 2022 Model   \n",
       "3  Mi 5A 80 cm (32 inch) HD Ready LED Smart Android TV with Dolby Audio (2022 Model)   \n",
       "4                             Infinix Y1 80 cm (32 inch) HD Ready LED Smart Linux TV   \n",
       "\n",
       "   s_price  o_price  rating num_rating num_reviews  \n",
       "0   6649.0  18999.0     3.8       1860       13066  \n",
       "1   8549.0  29999.0     3.8       1860       13066  \n",
       "2  13490.0  18900.0     4.3       6232       70154  \n",
       "3  13999.0  24999.0     4.4      30752      323612  \n",
       "4   8999.0  16999.0     4.2       1271        8481  "
      ]
     },
     "execution_count": 14,
     "metadata": {},
     "output_type": "execute_result"
    }
   ],
   "source": [
    "df.head()"
   ]
  },
  {
   "cell_type": "code",
   "execution_count": 15,
   "metadata": {},
   "outputs": [
    {
     "data": {
      "text/plain": [
       "609990.0"
      ]
     },
     "execution_count": 15,
     "metadata": {},
     "output_type": "execute_result"
    }
   ],
   "source": [
    "df['s_price'].max()"
   ]
  },
  {
   "cell_type": "code",
   "execution_count": 16,
   "metadata": {},
   "outputs": [
    {
     "data": {
      "text/plain": [
       "name           SAMSUNG QN90BAK 216 cm (85 inch) QLED Ultra HD (4K) Smart Tizen TV\n",
       "s_price                                                                  609990.0\n",
       "o_price                                                                  879900.0\n",
       "rating                                                                        NaN\n",
       "num_rating                                                                    NaN\n",
       "num_reviews                                                                   NaN\n",
       "Name: 1061, dtype: object"
      ]
     },
     "execution_count": 16,
     "metadata": {},
     "output_type": "execute_result"
    }
   ],
   "source": [
    "idx = df['s_price'].argmax()\n",
    "df.loc[idx]"
   ]
  },
  {
   "cell_type": "code",
   "execution_count": 17,
   "metadata": {},
   "outputs": [
    {
     "data": {
      "text/plain": [
       "4799.0"
      ]
     },
     "execution_count": 17,
     "metadata": {},
     "output_type": "execute_result"
    }
   ],
   "source": [
    "df['s_price'].min()"
   ]
  },
  {
   "cell_type": "code",
   "execution_count": 18,
   "metadata": {},
   "outputs": [
    {
     "data": {
      "text/plain": [
       "name           smart s tech 17inch led tv 43.18 cm (17 inch) Full HD LED TV\n",
       "s_price                                                              4799.0\n",
       "o_price                                                              8999.0\n",
       "rating                                                                  NaN\n",
       "num_rating                                                              NaN\n",
       "num_reviews                                                             NaN\n",
       "Name: 608, dtype: object"
      ]
     },
     "execution_count": 18,
     "metadata": {},
     "output_type": "execute_result"
    }
   ],
   "source": [
    "idx = df['s_price'].argmin()\n",
    "df.loc[idx]"
   ]
  },
  {
   "cell_type": "code",
   "execution_count": 19,
   "metadata": {},
   "outputs": [
    {
     "data": {
      "text/plain": [
       "<AxesSubplot: ylabel='Frequency'>"
      ]
     },
     "execution_count": 19,
     "metadata": {},
     "output_type": "execute_result"
    },
    {
     "data": {
      "image/png": "[encoded data removed]",
      "text/plain": [
       "<Figure size 2000x500 with 1 Axes>"
      ]
     },
     "metadata": {},
     "output_type": "display_data"
    }
   ],
   "source": [
    "df['s_price'].plot(kind='hist', bins=50, figsize=(20, 5))"
   ]
  },
  {
   "cell_type": "code",
   "execution_count": 20,
   "metadata": {},
   "outputs": [
    {
     "data": {
      "text/plain": [
       "<AxesSubplot: >"
      ]
     },
     "execution_count": 20,
     "metadata": {},
     "output_type": "execute_result"
    },
    {
     "data": {
      "image/png": "[encoded data removed]",
      "text/plain": [
       "<Figure size 2000x500 with 1 Axes>"
      ]
     },
     "metadata": {},
     "output_type": "display_data"
    }
   ],
   "source": [
    "df['s_price'].plot(kind='box', figsize=(20, 5), meanline= True, showmeans= True, logy= True)"
   ]
  },
  {
   "cell_type": "code",
   "execution_count": 21,
   "metadata": {},
   "outputs": [
    {
     "data": {
      "text/plain": [
       "0       24 inch\n",
       "1       32 inch\n",
       "2       32 Inch\n",
       "3       32 inch\n",
       "4       32 inch\n",
       "         ...   \n",
       "1059    43 inch\n",
       "1060    43 inch\n",
       "1061    85 inch\n",
       "1062        NaN\n",
       "1063        NaN\n",
       "Name: name, Length: 1064, dtype: object"
      ]
     },
     "execution_count": 21,
     "metadata": {},
     "output_type": "execute_result"
    }
   ],
   "source": [
    "def get_size_of_tv(value):\n",
    "    if isinstance(value, float):\n",
    "        return value\n",
    "    if 'inch' in value.lower():\n",
    "        si = value.find('(')+1\n",
    "        ei = value.find(')')\n",
    "        return value[si:ei]\n",
    "    return value\n",
    "\n",
    "df['name'].apply(get_size_of_tv)"
   ]
  },
  {
   "cell_type": "code",
   "execution_count": 22,
   "metadata": {},
   "outputs": [
    {
     "data": {
      "text/html": [
       "<div>\n",
       "<style scoped>\n",
       "    .dataframe tbody tr th:only-of-type {\n",
       "        vertical-align: middle;\n",
       "    }\n",
       "\n",
       "    .dataframe tbody tr th {\n",
       "        vertical-align: top;\n",
       "    }\n",
       "\n",
       "    .dataframe thead th {\n",
       "        text-align: right;\n",
       "    }\n",
       "</style>\n",
       "<table border=\"1\" class=\"dataframe\">\n",
       "  <thead>\n",
       "    <tr style=\"text-align: right;\">\n",
       "      <th></th>\n",
       "      <th>name</th>\n",
       "      <th>s_price</th>\n",
       "      <th>o_price</th>\n",
       "      <th>rating</th>\n",
       "      <th>num_rating</th>\n",
       "      <th>num_reviews</th>\n",
       "      <th>size</th>\n",
       "    </tr>\n",
       "  </thead>\n",
       "  <tbody>\n",
       "    <tr>\n",
       "      <th>0</th>\n",
       "      <td>Adsun Smart Series 60 cm (24 inch) HD Ready LED Smart Android Based TV</td>\n",
       "      <td>6649.0</td>\n",
       "      <td>18999.0</td>\n",
       "      <td>3.8</td>\n",
       "      <td>1860</td>\n",
       "      <td>13066</td>\n",
       "      <td>24 inch</td>\n",
       "    </tr>\n",
       "    <tr>\n",
       "      <th>1</th>\n",
       "      <td>Adsun Frameless 80 cm (32 inch) HD Ready LED Smart Android Based TV</td>\n",
       "      <td>8549.0</td>\n",
       "      <td>29999.0</td>\n",
       "      <td>3.8</td>\n",
       "      <td>1860</td>\n",
       "      <td>13066</td>\n",
       "      <td>32 inch</td>\n",
       "    </tr>\n",
       "    <tr>\n",
       "      <th>2</th>\n",
       "      <td>SAMSUNG 80 cm (32 Inch) HD Ready LED Smart Tizen TV with 2022 Model</td>\n",
       "      <td>13490.0</td>\n",
       "      <td>18900.0</td>\n",
       "      <td>4.3</td>\n",
       "      <td>6232</td>\n",
       "      <td>70154</td>\n",
       "      <td>32 Inch</td>\n",
       "    </tr>\n",
       "    <tr>\n",
       "      <th>3</th>\n",
       "      <td>Mi 5A 80 cm (32 inch) HD Ready LED Smart Android TV with Dolby Audio (2022 Model)</td>\n",
       "      <td>13999.0</td>\n",
       "      <td>24999.0</td>\n",
       "      <td>4.4</td>\n",
       "      <td>30752</td>\n",
       "      <td>323612</td>\n",
       "      <td>32 inch</td>\n",
       "    </tr>\n",
       "    <tr>\n",
       "      <th>4</th>\n",
       "      <td>Infinix Y1 80 cm (32 inch) HD Ready LED Smart Linux TV</td>\n",
       "      <td>8999.0</td>\n",
       "      <td>16999.0</td>\n",
       "      <td>4.2</td>\n",
       "      <td>1271</td>\n",
       "      <td>8481</td>\n",
       "      <td>32 inch</td>\n",
       "    </tr>\n",
       "  </tbody>\n",
       "</table>\n",
       "</div>"
      ],
      "text/plain": [
       "                                                                                name  \\\n",
       "0             Adsun Smart Series 60 cm (24 inch) HD Ready LED Smart Android Based TV   \n",
       "1                Adsun Frameless 80 cm (32 inch) HD Ready LED Smart Android Based TV   \n",
       "2                SAMSUNG 80 cm (32 Inch) HD Ready LED Smart Tizen TV with 2022 Model   \n",
       "3  Mi 5A 80 cm (32 inch) HD Ready LED Smart Android TV with Dolby Audio (2022 Model)   \n",
       "4                             Infinix Y1 80 cm (32 inch) HD Ready LED Smart Linux TV   \n",
       "\n",
       "   s_price  o_price  rating num_rating num_reviews    size   \n",
       "0   6649.0  18999.0     3.8       1860       13066  24 inch  \n",
       "1   8549.0  29999.0     3.8       1860       13066  32 inch  \n",
       "2  13490.0  18900.0     4.3       6232       70154  32 Inch  \n",
       "3  13999.0  24999.0     4.4      30752      323612  32 inch  \n",
       "4   8999.0  16999.0     4.2       1271        8481  32 inch  "
      ]
     },
     "execution_count": 22,
     "metadata": {},
     "output_type": "execute_result"
    }
   ],
   "source": [
    "df['size ']= df['name'].apply(get_size_of_tv)\n",
    "df.head()"
   ]
  },
  {
   "cell_type": "code",
   "execution_count": null,
   "metadata": {},
   "outputs": [],
   "source": []
  }
 ],
 "metadata": {
  "kernelspec": {
   "display_name": "Python 3.9.12 ('base')",
   "language": "python",
   "name": "python3"
  },
  "language_info": {
   "codemirror_mode": {
    "name": "ipython",
    "version": 3
   },
   "file_extension": ".py",
   "mimetype": "text/x-python",
   "name": "python",
   "nbconvert_exporter": "python",
   "pygments_lexer": "ipython3",
   "version": "3.9.12"
  },
  "orig_nbformat": 4,
  "vscode": {
   "interpreter": {
    "hash": "f85b9146c22f560b5e4e393e9773a498e0028d70d0712436c8dae0e49710cb35"
   }
  }
 },
 "nbformat": 4,
 "nbformat_minor": 2
}
