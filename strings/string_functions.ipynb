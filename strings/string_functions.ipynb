{
 "cells": [
  {
   "cell_type": "code",
   "execution_count": 1,
   "metadata": {},
   "outputs": [],
   "source": [
    "msg=''' jenfenfewnnewfnewnfiewnfewnwfnewfnewncfewncjinewbwjicbewcbedwhbcvhedwbncvhiedwbcviedwbcvhedwbcvhbw  jad n ci  beifbnewf  ewujifbnewiufhnew  bcewducew  jcbnewibncfew \n",
    "ewjncjewncfoewewncvewmncvnmwec\n",
    "cedwmkcedwokcmcewedwkcvncedwknc\n",
    " bnunsdi ndsj  dvjidsncvjd  hdsbcvjdisbv jkbcidwsb dwsibudwb '''"
   ]
  },
  {
   "cell_type": "code",
   "execution_count": 3,
   "metadata": {},
   "outputs": [
    {
     "name": "stdout",
     "output_type": "stream",
     "text": [
      "total characters:291\n"
     ]
    }
   ],
   "source": [
    "chars = len(msg)\n",
    "print(f'total characters:{chars}')"
   ]
  },
  {
   "cell_type": "code",
   "execution_count": 4,
   "metadata": {},
   "outputs": [
    {
     "data": {
      "text/plain": [
       "11"
      ]
     },
     "execution_count": 4,
     "metadata": {},
     "output_type": "execute_result"
    }
   ],
   "source": [
    "msg.find('new')"
   ]
  },
  {
   "cell_type": "code",
   "execution_count": 5,
   "metadata": {},
   "outputs": [
    {
     "data": {
      "text/plain": [
       "155"
      ]
     },
     "execution_count": 5,
     "metadata": {},
     "output_type": "execute_result"
    }
   ],
   "source": [
    "msg.rfind('new')"
   ]
  },
  {
   "cell_type": "code",
   "execution_count": 6,
   "metadata": {},
   "outputs": [
    {
     "data": {
      "text/plain": [
       "-1"
      ]
     },
     "execution_count": 6,
     "metadata": {},
     "output_type": "execute_result"
    }
   ],
   "source": [
    "msg.rfind('love')"
   ]
  },
  {
   "cell_type": "code",
   "execution_count": 8,
   "metadata": {},
   "outputs": [
    {
     "data": {
      "text/plain": [
       "'newfnewnfiewnfewnwfnewfnewncfewncjinewbwjicbewcbedwhbcvhedwbncvhiedwbcviedwbcvhedwbcvhbw  jad n ci  beifbnewf  ewujifbnewiufhnew  bcewducew  jcbnewibncfew \\newjncjewncfoewewncvewmncvnmwec\\ncedwmkcedwokcmcewedwkcvncedwknc\\n bnunsdi ndsj  dvjidsncvjd  hdsbcvjdisbv jkbcidwsb dwsibudwb '"
      ]
     },
     "execution_count": 8,
     "metadata": {},
     "output_type": "execute_result"
    }
   ],
   "source": [
    "idx=msg.find('new')\n",
    "msg[idx:]"
   ]
  },
  {
   "cell_type": "code",
   "execution_count": 9,
   "metadata": {},
   "outputs": [
    {
     "name": "stdout",
     "output_type": "stream",
     "text": [
      " jenfenfewnloveflovenfiewnfewnwfloveflovencfewncjilovebwjicbewcbedwhbcvhedwbncvhiedwbcviedwbcvhedwbcvhbw  jad n ci  beifblovef  ewujifbloveiufhlove  bcewducew  jcbloveibncfew \n",
      "ewjncjewncfoewewncvewmncvnmwec\n",
      "cedwmkcedwokcmcewedwkcvncedwknc\n",
      " bnunsdi ndsj  dvjidsncvjd  hdsbcvjdisbv jkbcidwsb dwsibudwb \n"
     ]
    }
   ],
   "source": [
    "result=msg.replace(\"new\",\"love\")\n",
    "print(result)"
   ]
  },
  {
   "cell_type": "code",
   "execution_count": 11,
   "metadata": {},
   "outputs": [
    {
     "name": "stdout",
     "output_type": "stream",
     "text": [
      " kenfenfewnisfisnfiewnfewnwfisfisncfewnckiisbwkicbewcbedwhbcvhedwbncvhiedwbcviedwbcvhedwbcvhbw  kad n ci  beifbisf  ewukifbisiufhis  bcewducew  kcbisibncfew \n",
      "ewknckewncfoewewncvewmncvnmwec\n",
      "cedwmkcedwokcmcewedwkcvncedwknc\n",
      " bnnunsdi ndsk  dvkidsncvkd  hdsbcvkdisbv kkbcidwsb dwsibudwb \n"
     ]
    }
   ],
   "source": [
    "result = msg.replace('nu','nnu').replace('new','is').replace('j','k')\n",
    "print(result)"
   ]
  },
  {
   "cell_type": "code",
   "execution_count": 12,
   "metadata": {},
   "outputs": [
    {
     "data": {
      "text/plain": [
       "9"
      ]
     },
     "execution_count": 12,
     "metadata": {},
     "output_type": "execute_result"
    }
   ],
   "source": [
    "msg.count('new')"
   ]
  },
  {
   "cell_type": "code",
   "execution_count": 2,
   "metadata": {},
   "outputs": [],
   "source": [
    "msg = '''Life history theory explains the general features of life cycle, i.e.,\n",
    " how fast the organism grows, at what age it matures, how long it lives, and \n",
    " how often it reproduces. The theory is central to evolutionary ecology, \n",
    "as it directly deals with natural selection, fitness, adaptation, and constraint'''"
   ]
  },
  {
   "cell_type": "code",
   "execution_count": 2,
   "metadata": {},
   "outputs": [
    {
     "data": {
      "text/plain": [
       "150"
      ]
     },
     "execution_count": 2,
     "metadata": {},
     "output_type": "execute_result"
    }
   ],
   "source": [
    "msg.rfind('how')"
   ]
  },
  {
   "cell_type": "code",
   "execution_count": 3,
   "metadata": {},
   "outputs": [
    {
     "data": {
      "text/plain": [
       "'Life history theory explains the general features of life cycle, i.e.,\\n hmm fast the organism grows, at what age it matures, hmm long it lives, and \\n hmm often it reproduces. The theory is central to evolutionary ecology, \\nas it directly deals with natural selection, fitness, adaptation, and constraint'"
      ]
     },
     "execution_count": 3,
     "metadata": {},
     "output_type": "execute_result"
    }
   ],
   "source": [
    "msg.replace('how','hmm')"
   ]
  },
  {
   "cell_type": "code",
   "execution_count": 4,
   "metadata": {},
   "outputs": [
    {
     "data": {
      "text/plain": [
       "16"
      ]
     },
     "execution_count": 4,
     "metadata": {},
     "output_type": "execute_result"
    }
   ],
   "source": [
    "msg.count('s')"
   ]
  },
  {
   "cell_type": "code",
   "execution_count": 3,
   "metadata": {},
   "outputs": [
    {
     "name": "stdout",
     "output_type": "stream",
     "text": [
      "Life haretory theory explains the general features of life cycle, i.e.,\n",
      " she fast the organarem grows, at what age it matures, she long it lives, ant \n",
      " she often it reprotuces. The theory are central to evolutionary ecology, \n",
      "as it tirectly teals with natural selection, fitness, ataptation, ant constraint\n"
     ]
    }
   ],
   "source": [
    "result = msg.replace('how','she').replace('is','are').replace('d','t')\n",
    "print(result)"
   ]
  },
  {
   "cell_type": "code",
   "execution_count": 6,
   "metadata": {},
   "outputs": [
    {
     "data": {
      "text/plain": [
       "'how fast the organism grows, at what age it matures, how long it lives, and \\n how often it reproduces. The theory is central to evolutionary ecology, \\nas it directly deals with natural selection, fitness, adaptation, and constraint'"
      ]
     },
     "execution_count": 6,
     "metadata": {},
     "output_type": "execute_result"
    }
   ],
   "source": [
    "r = msg.find('how')\n",
    "msg[r:]"
   ]
  },
  {
   "cell_type": "code",
   "execution_count": null,
   "metadata": {},
   "outputs": [],
   "source": []
  }
 ],
 "metadata": {
  "kernelspec": {
   "display_name": "Python 3.9.12 ('base')",
   "language": "python",
   "name": "python3"
  },
  "language_info": {
   "codemirror_mode": {
    "name": "ipython",
    "version": 3
   },
   "file_extension": ".py",
   "mimetype": "text/x-python",
   "name": "python",
   "nbconvert_exporter": "python",
   "pygments_lexer": "ipython3",
   "version": "3.9.12"
  },
  "orig_nbformat": 4,
  "vscode": {
   "interpreter": {
    "hash": "f85b9146c22f560b5e4e393e9773a498e0028d70d0712436c8dae0e49710cb35"
   }
  }
 },
 "nbformat": 4,
 "nbformat_minor": 2
}
