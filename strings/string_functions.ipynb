{
 "cells": [
  {
   "cell_type": "code",
   "execution_count": 1,
   "metadata": {},
   "outputs": [],
   "source": [
    "msg=''' jenfenfewnnewfnewnfiewnfewnwfnewfnewncfewncjinewbwjicbewcbedwhbcvhedwbncvhiedwbcviedwbcvhedwbcvhbw  jad n ci  beifbnewf  ewujifbnewiufhnew  bcewducew  jcbnewibncfew \n",
    "ewjncjewncfoewewncvewmncvnmwec\n",
    "cedwmkcedwokcmcewedwkcvncedwknc\n",
    " bnunsdi ndsj  dvjidsncvjd  hdsbcvjdisbv jkbcidwsb dwsibudwb '''"
   ]
  },
  {
   "cell_type": "code",
   "execution_count": null,
   "metadata": {},
   "outputs": [],
   "source": [
    "msg=''' jenfenfewnnewfnewnfiewnfewnwfnewfnewncfewncjinewbwjicbewcbedwhbcvhedwbncvhiedwbcviedwbcvhedwbcvhbw  jad n ci  beifbnewf  ewujifbnewiufhnew  bcewducew  jcbnewibncfew \n",
    "ewjncjewncfoewewncvewmncvnmwec\n",
    "cedwmkcedwokcmcewedwkcvncedwknc\n",
    " bnunsdi ndsj  dvjidsncvjd  hdsbcvjdisbv jkbcidwsb dwsibudwb '''"
   ]
  },
  {
   "cell_type": "code",
   "execution_count": null,
   "metadata": {},
   "outputs": [],
   "source": [
    "msg=''' jenfenfewnnewfnewnfiewnfewnwfnewfnewncfewncjinewbwjicbewcbedwhbcvhedwbncvhiedwbcviedwbcvhedwbcvhbw  jad n ci  beifbnewf  ewujifbnewiufhnew  bcewducew  jcbnewibncfew \n",
    "ewjncjewncfoewewncvewmncvnmwec\n",
    "cedwmkcedwokcmcewedwkcvncedwknc\n",
    " bnunsdi ndsj  dvjidsncvjd  hdsbcvjdisbv jkbcidwsb dwsibudwb '''"
   ]
  },
  {
   "cell_type": "code",
   "execution_count": null,
   "metadata": {},
   "outputs": [],
   "source": [
    "msg=''' jenfenfewnnewfnewnfiewnfewnwfnewfnewncfewncjinewbwjicbewcbedwhbcvhedwbncvhiedwbcviedwbcvhedwbcvhbw  jad n ci  beifbnewf  ewujifbnewiufhnew  bcewducew  jcbnewibncfew \n",
    "ewjncjewncfoewewncvewmncvnmwec\n",
    "cedwmkcedwokcmcewedwkcvncedwknc\n",
    " bnunsdi ndsj  dvjidsncvjd  hdsbcvjdisbv jkbcidwsb dwsibudwb '''"
   ]
  },
  {
   "cell_type": "code",
   "execution_count": null,
   "metadata": {},
   "outputs": [],
   "source": [
    "msg=''' jenfenfewnnewfnewnfiewnfewnwfnewfnewncfewncjinewbwjicbewcbedwhbcvhedwbncvhiedwbcviedwbcvhedwbcvhbw  jad n ci  beifbnewf  ewujifbnewiufhnew  bcewducew  jcbnewibncfew \n",
    "ewjncjewncfoewewncvewmncvnmwec\n",
    "cedwmkcedwokcmcewedwkcvncedwknc\n",
    " bnunsdi ndsj  dvjidsncvjd  hdsbcvjdisbv jkbcidwsb dwsibudwb '''"
   ]
  },
  {
   "cell_type": "code",
   "execution_count": null,
   "metadata": {},
   "outputs": [],
   "source": [
    "msg=''' jenfenfewnnewfnewnfiewnfewnwfnewfnewncfewncjinewbwjicbewcbedwhbcvhedwbncvhiedwbcviedwbcvhedwbcvhbw  jad n ci  beifbnewf  ewujifbnewiufhnew  bcewducew  jcbnewibncfew \n",
    "ewjncjewncfoewewncvewmncvnmwec\n",
    "cedwmkcedwokcmcewedwkcvncedwknc\n",
    " bnunsdi ndsj  dvjidsncvjd  hdsbcvjdisbv jkbcidwsb dwsibudwb '''"
   ]
  },
  {
   "cell_type": "code",
   "execution_count": null,
   "metadata": {},
   "outputs": [],
   "source": [
    "msg=''' jenfenfewnnewfnewnfiewnfewnwfnewfnewncfewncjinewbwjicbewcbedwhbcvhedwbncvhiedwbcviedwbcvhedwbcvhbw  jad n ci  beifbnewf  ewujifbnewiufhnew  bcewducew  jcbnewibncfew \n",
    "ewjncjewncfoewewncvewmncvnmwec\n",
    "cedwmkcedwokcmcewedwkcvncedwknc\n",
    " bnunsdi ndsj  dvjidsncvjd  hdsbcvjdisbv jkbcidwsb dwsibudwb '''"
   ]
  },
  {
   "cell_type": "code",
   "execution_count": null,
   "metadata": {},
   "outputs": [],
   "source": [
    "msg=''' jenfenfewnnewfnewnfiewnfewnwfnewfnewncfewncjinewbwjicbewcbedwhbcvhedwbncvhiedwbcviedwbcvhedwbcvhbw  jad n ci  beifbnewf  ewujifbnewiufhnew  bcewducew  jcbnewibncfew \n",
    "ewjncjewncfoewewncvewmncvnmwec\n",
    "cedwmkcedwokcmcewedwkcvncedwknc\n",
    " bnunsdi ndsj  dvjidsncvjd  hdsbcvjdisbv jkbcidwsb dwsibudwb '''"
   ]
  },
  {
   "cell_type": "code",
   "execution_count": 3,
   "metadata": {},
   "outputs": [
    {
     "name": "stdout",
     "output_type": "stream",
     "text": [
      "total characters:291\n"
     ]
    }
   ],
   "source": [
    "chars = len(msg)\n",
    "print(f'total characters:{chars}')"
   ]
  },
  {
   "cell_type": "code",
   "execution_count": 4,
   "metadata": {},
   "outputs": [
    {
     "data": {
      "text/plain": [
       "11"
      ]
     },
     "execution_count": 4,
     "metadata": {},
     "output_type": "execute_result"
    }
   ],
   "source": [
    "msg.find('new')"
   ]
  },
  {
   "cell_type": "code",
   "execution_count": 5,
   "metadata": {},
   "outputs": [
    {
     "data": {
      "text/plain": [
       "155"
      ]
     },
     "execution_count": 5,
     "metadata": {},
     "output_type": "execute_result"
    }
   ],
   "source": [
    "msg.rfind('new')"
   ]
  },
  {
   "cell_type": "code",
   "execution_count": 6,
   "metadata": {},
   "outputs": [
    {
     "data": {
      "text/plain": [
       "-1"
      ]
     },
     "execution_count": 6,
     "metadata": {},
     "output_type": "execute_result"
    }
   ],
   "source": [
    "msg.rfind('love')"
   ]
  },
  {
   "cell_type": "code",
   "execution_count": 8,
   "metadata": {},
   "outputs": [
    {
     "data": {
      "text/plain": [
       "'newfnewnfiewnfewnwfnewfnewncfewncjinewbwjicbewcbedwhbcvhedwbncvhiedwbcviedwbcvhedwbcvhbw  jad n ci  beifbnewf  ewujifbnewiufhnew  bcewducew  jcbnewibncfew \\newjncjewncfoewewncvewmncvnmwec\\ncedwmkcedwokcmcewedwkcvncedwknc\\n bnunsdi ndsj  dvjidsncvjd  hdsbcvjdisbv jkbcidwsb dwsibudwb '"
      ]
     },
     "execution_count": 8,
     "metadata": {},
     "output_type": "execute_result"
    }
   ],
   "source": [
    "idx=msg.find('new')\n",
    "msg[idx:]"
   ]
  },
  {
   "cell_type": "code",
   "execution_count": 9,
   "metadata": {},
   "outputs": [
    {
     "name": "stdout",
     "output_type": "stream",
     "text": [
      " jenfenfewnloveflovenfiewnfewnwfloveflovencfewncjilovebwjicbewcbedwhbcvhedwbncvhiedwbcviedwbcvhedwbcvhbw  jad n ci  beifblovef  ewujifbloveiufhlove  bcewducew  jcbloveibncfew \n",
      "ewjncjewncfoewewncvewmncvnmwec\n",
      "cedwmkcedwokcmcewedwkcvncedwknc\n",
      " bnunsdi ndsj  dvjidsncvjd  hdsbcvjdisbv jkbcidwsb dwsibudwb \n"
     ]
    }
   ],
   "source": [
    "result=msg.replace(\"new\",\"love\")\n",
    "print(result)"
   ]
  },
  {
   "cell_type": "code",
   "execution_count": 11,
   "metadata": {},
   "outputs": [
    {
     "name": "stdout",
     "output_type": "stream",
     "text": [
      " kenfenfewnisfisnfiewnfewnwfisfisncfewnckiisbwkicbewcbedwhbcvhedwbncvhiedwbcviedwbcvhedwbcvhbw  kad n ci  beifbisf  ewukifbisiufhis  bcewducew  kcbisibncfew \n",
      "ewknckewncfoewewncvewmncvnmwec\n",
      "cedwmkcedwokcmcewedwkcvncedwknc\n",
      " bnnunsdi ndsk  dvkidsncvkd  hdsbcvkdisbv kkbcidwsb dwsibudwb \n"
     ]
    }
   ],
   "source": [
    "result = msg.replace('nu','nnu').replace('new','is').replace('j','k')\n",
    "print(result)"
   ]
  },
  {
   "cell_type": "code",
   "execution_count": 12,
   "metadata": {},
   "outputs": [
    {
     "data": {
      "text/plain": [
       "9"
      ]
     },
     "execution_count": 12,
     "metadata": {},
     "output_type": "execute_result"
    }
   ],
   "source": [
    "msg.count('new')"
   ]
  },
  {
   "cell_type": "code",
   "execution_count": 2,
   "metadata": {},
   "outputs": [],
   "source": [
    "msg = '''Life history theory explains the general features of life cycle, i.e.,\n",
    " how fast the organism grows, at what age it matures, how long it lives, and \n",
    " how often it reproduces. The theory is central to evolutionary ecology, \n",
    "as it directly deals with natural selection, fitness, adaptation, and constraint'''"
   ]
  },
  {
   "cell_type": "code",
   "execution_count": 2,
   "metadata": {},
   "outputs": [
    {
     "data": {
      "text/plain": [
       "150"
      ]
     },
     "execution_count": 2,
     "metadata": {},
     "output_type": "execute_result"
    }
   ],
   "source": [
    "msg.rfind('how')"
   ]
  },
  {
   "cell_type": "code",
   "execution_count": 3,
   "metadata": {},
   "outputs": [
    {
     "data": {
      "text/plain": [
       "'Life history theory explains the general features of life cycle, i.e.,\\n hmm fast the organism grows, at what age it matures, hmm long it lives, and \\n hmm often it reproduces. The theory is central to evolutionary ecology, \\nas it directly deals with natural selection, fitness, adaptation, and constraint'"
      ]
     },
     "execution_count": 3,
     "metadata": {},
     "output_type": "execute_result"
    }
   ],
   "source": [
    "msg.replace('how','hmm')"
   ]
  },
  {
   "cell_type": "code",
   "execution_count": 4,
   "metadata": {},
   "outputs": [
    {
     "data": {
      "text/plain": [
       "16"
      ]
     },
     "execution_count": 4,
     "metadata": {},
     "output_type": "execute_result"
    }
   ],
   "source": [
    "msg.count('s')"
   ]
  },
  {
   "cell_type": "code",
   "execution_count": 3,
   "metadata": {},
   "outputs": [
    {
     "name": "stdout",
     "output_type": "stream",
     "text": [
      "Life haretory theory explains the general features of life cycle, i.e.,\n",
      " she fast the organarem grows, at what age it matures, she long it lives, ant \n",
      " she often it reprotuces. The theory are central to evolutionary ecology, \n",
      "as it tirectly teals with natural selection, fitness, ataptation, ant constraint\n"
     ]
    }
   ],
   "source": [
    "result = msg.replace('how','she').replace('is','are').replace('d','t')\n",
    "print(result)"
   ]
  },
  {
   "cell_type": "code",
   "execution_count": 6,
   "metadata": {},
   "outputs": [
    {
     "data": {
      "text/plain": [
       "'how fast the organism grows, at what age it matures, how long it lives, and \\n how often it reproduces. The theory is central to evolutionary ecology, \\nas it directly deals with natural selection, fitness, adaptation, and constraint'"
      ]
     },
     "execution_count": 6,
     "metadata": {},
     "output_type": "execute_result"
    }
   ],
   "source": [
    "r = msg.find('how')\n",
    "msg[r:]"
   ]
  },
  {
   "cell_type": "code",
   "execution_count": 7,
   "metadata": {},
   "outputs": [
    {
     "name": "stdout",
     "output_type": "stream",
     "text": [
      "['Life', 'history', 'theory', 'explains', 'the', 'general', 'features', 'of', 'life', 'cycle,', 'i.e.,', 'how', 'fast', 'the', 'organism', 'grows,', 'at', 'what', 'age', 'it', 'matures,', 'how', 'long', 'it', 'lives,', 'and', 'how', 'often', 'it', 'reproduces.', 'The', 'theory', 'is', 'central', 'to', 'evolutionary', 'ecology,', 'as', 'it', 'directly', 'deals', 'with', 'natural', 'selection,', 'fitness,', 'adaptation,', 'and', 'constraint']\n"
     ]
    }
   ],
   "source": [
    "words = msg.split()\n",
    "print(words)"
   ]
  },
  {
   "cell_type": "code",
   "execution_count": 8,
   "metadata": {},
   "outputs": [
    {
     "name": "stdout",
     "output_type": "stream",
     "text": [
      "['Life history theory explains the general features of life cycle, i.e.,', ' how fast the organism grows, at what age it matures, how long it lives, and ', ' how often it reproduces. The theory is central to evolutionary ecology, ', 'as it directly deals with natural selection, fitness, adaptation, and constraint']\n"
     ]
    }
   ],
   "source": [
    "lines=msg.splitlines()\n",
    "print(lines)"
   ]
  },
  {
   "cell_type": "code",
   "execution_count": 9,
   "metadata": {},
   "outputs": [
    {
     "data": {
      "text/plain": [
       "['Life history theory explains the general features of life cycle',\n",
       " ' i.e.',\n",
       " '\\n how fast the organism grows',\n",
       " ' at what age it matures',\n",
       " ' how long it lives',\n",
       " ' and \\n how often it reproduces. The theory is central to evolutionary ecology',\n",
       " ' \\nas it directly deals with natural selection',\n",
       " ' fitness',\n",
       " ' adaptation',\n",
       " ' and constraint']"
      ]
     },
     "execution_count": 9,
     "metadata": {},
     "output_type": "execute_result"
    }
   ],
   "source": [
    "msg.split(',')"
   ]
  },
  {
   "cell_type": "code",
   "execution_count": 12,
   "metadata": {},
   "outputs": [
    {
     "name": "stdout",
     "output_type": "stream",
     "text": [
      "['Amar', ' Akabr', ' Raju', ' shyam']\n"
     ]
    }
   ],
   "source": [
    "names ='Amar, Akabr, Raju, shyam'\n",
    "name_list= names.split(\",\") #list\n",
    "print(name_list)"
   ]
  },
  {
   "cell_type": "code",
   "execution_count": 14,
   "metadata": {},
   "outputs": [
    {
     "name": "stdout",
     "output_type": "stream",
     "text": [
      "['Amar', ' Akabr', ' Raju', ' shyam']\n",
      "names-> Amar\n",
      "names->  Akabr\n",
      "names->  Raju\n",
      "names->  shyam\n"
     ]
    }
   ],
   "source": [
    "names ='Amar, Akabr, Raju, shyam'\n",
    "name_list= names.split(\",\") #list\n",
    "print(name_list)\n",
    "\n",
    "for nm in name_list:\n",
    "    print('names->',nm)"
   ]
  },
  {
   "cell_type": "code",
   "execution_count": 15,
   "metadata": {},
   "outputs": [
    {
     "name": "stdout",
     "output_type": "stream",
     "text": [
      "['rahul,deepak,bag,leptop']\n"
     ]
    }
   ],
   "source": [
    "# split\n",
    "items = input(\"enter 5 iteam seapreted by spacce\").split()\n",
    "print(items)"
   ]
  },
  {
   "cell_type": "code",
   "execution_count": 17,
   "metadata": {},
   "outputs": [
    {
     "name": "stdout",
     "output_type": "stream",
     "text": [
      "python -m testbook\n",
      "python-mtestbook\n",
      "python,-m,testbook\n",
      "python_____-m_____testbook\n"
     ]
    }
   ],
   "source": [
    "data_list = ['python','-m','testbook']\n",
    "\n",
    "result = \" \".join(data_list)\n",
    "print(result)\n",
    "result =\"\".join(data_list)\n",
    "print(result)\n",
    "result = \",\".join(data_list)\n",
    "print(result)\n",
    "result = \"_____\".join(data_list)\n",
    "print(result)\n",
    "\n"
   ]
  },
  {
   "cell_type": "code",
   "execution_count": 18,
   "metadata": {},
   "outputs": [
    {
     "name": "stdout",
     "output_type": "stream",
     "text": [
      "LIFE HISTORY THEORY EXPLAINS THE GENERAL FEATURES OF LIFE CYCLE, I.E.,\n",
      " HOW FAST THE ORGANISM GROWS, AT WHAT AGE IT MATURES, HOW LONG IT LIVES, AND \n",
      " HOW OFTEN IT REPRODUCES. THE THEORY IS CENTRAL TO EVOLUTIONARY ECOLOGY, \n",
      "AS IT DIRECTLY DEALS WITH NATURAL SELECTION, FITNESS, ADAPTATION, AND CONSTRAINT\n"
     ]
    }
   ],
   "source": [
    "print(msg.upper())"
   ]
  },
  {
   "cell_type": "code",
   "execution_count": 19,
   "metadata": {},
   "outputs": [
    {
     "data": {
      "text/plain": [
       "'LIFE HISTORY THEORY EXPLAINS THE GENERAL FEATURES OF LIFE CYCLE, I.E.,\\n HOW FAST THE ORGANISM GROWS, AT WHAT AGE IT MATURES, HOW LONG IT LIVES, AND \\n HOW OFTEN IT REPRODUCES. THE THEORY IS CENTRAL TO EVOLUTIONARY ECOLOGY, \\nAS IT DIRECTLY DEALS WITH NATURAL SELECTION, FITNESS, ADAPTATION, AND CONSTRAINT'"
      ]
     },
     "execution_count": 19,
     "metadata": {},
     "output_type": "execute_result"
    }
   ],
   "source": [
    "result = msg.upper()\n",
    "result"
   ]
  },
  {
   "cell_type": "code",
   "execution_count": 22,
   "metadata": {},
   "outputs": [
    {
     "name": "stdout",
     "output_type": "stream",
     "text": [
      "Life History Theory Explains The General Features Of Life Cycle, I.E.,\n",
      " How Fast The Organism Grows, At What Age It Matures, How Long It Lives, And \n",
      " How Often It Reproduces. The Theory Is Central To Evolutionary Ecology, \n",
      "As It Directly Deals With Natural Selection, Fitness, Adaptation, And Constraint\n"
     ]
    }
   ],
   "source": [
    "result=msg.title()\n",
    "print(result)"
   ]
  },
  {
   "cell_type": "code",
   "execution_count": 23,
   "metadata": {},
   "outputs": [
    {
     "name": "stdout",
     "output_type": "stream",
     "text": [
      "Life history theory explains the general features of life cycle, i.e.,\n",
      " how fast the organism grows, at what age it matures, how long it lives, and \n",
      " how often it reproduces. the theory is central to evolutionary ecology, \n",
      "as it directly deals with natural selection, fitness, adaptation, and constraint\n"
     ]
    }
   ],
   "source": [
    "result= msg.capitalize()\n",
    "print(result)"
   ]
  },
  {
   "cell_type": "code",
   "execution_count": 24,
   "metadata": {},
   "outputs": [
    {
     "name": "stdout",
     "output_type": "stream",
     "text": [
      "life history theory explains the general features of life cycle, i.e.,\n",
      " how fast the organism grows, at what age it matures, how long it lives, and \n",
      " how often it reproduces. the theory is central to evolutionary ecology, \n",
      "as it directly deals with natural selection, fitness, adaptation, and constraint\n"
     ]
    }
   ],
   "source": [
    "result=msg.lower()\n",
    "print(result)"
   ]
  },
  {
   "cell_type": "code",
   "execution_count": 25,
   "metadata": {},
   "outputs": [
    {
     "name": "stdout",
     "output_type": "stream",
     "text": [
      "lIFE HISTORY THEORY EXPLAINS THE GENERAL FEATURES OF LIFE CYCLE, I.E.,\n",
      " HOW FAST THE ORGANISM GROWS, AT WHAT AGE IT MATURES, HOW LONG IT LIVES, AND \n",
      " HOW OFTEN IT REPRODUCES. tHE THEORY IS CENTRAL TO EVOLUTIONARY ECOLOGY, \n",
      "AS IT DIRECTLY DEALS WITH NATURAL SELECTION, FITNESS, ADAPTATION, AND CONSTRAINT\n"
     ]
    }
   ],
   "source": [
    "result = msg.swapcase()\n",
    "print(result)"
   ]
  },
  {
   "cell_type": "code",
   "execution_count": 28,
   "metadata": {},
   "outputs": [
    {
     "name": "stdout",
     "output_type": "stream",
     "text": [
      "lIFE hISTORY tHEORY eXPLAINS tHE gENERAL fEATURES oF lIFE cYCLE, i.e.,\n",
      " hOW fAST tHE oRGANISM gROWS, aT wHAT aGE iT mATURES, hOW lONG iT lIVES, aND \n",
      " hOW oFTEN iT rEPRODUCES. tHE tHEORY iS cENTRAL tO eVOLUTIONARY eCOLOGY, \n",
      "aS iT dIRECTLY dEALS wITH nATURAL sELECTION, fITNESS, aDAPTATION, aND cONSTRAINT\n"
     ]
    }
   ],
   "source": [
    "print(msg.title().swapcase().replace('history','strange'))"
   ]
  },
  {
   "cell_type": "code",
   "execution_count": null,
   "metadata": {},
   "outputs": [],
   "source": []
  }
 ],
 "metadata": {
  "kernelspec": {
   "display_name": "Python 3.9.12 ('base')",
   "language": "python",
   "name": "python3"
  },
  "language_info": {
   "codemirror_mode": {
    "name": "ipython",
    "version": 3
   },
   "file_extension": ".py",
   "mimetype": "text/x-python",
   "name": "python",
   "nbconvert_exporter": "python",
   "pygments_lexer": "ipython3",
   "version": "3.9.12"
  },
  "orig_nbformat": 4,
  "vscode": {
   "interpreter": {
    "hash": "f85b9146c22f560b5e4e393e9773a498e0028d70d0712436c8dae0e49710cb35"
   }
  }
 },
 "nbformat": 4,
 "nbformat_minor": 2
}
