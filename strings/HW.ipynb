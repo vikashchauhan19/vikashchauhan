{
 "cells": [
  {
   "cell_type": "code",
   "execution_count": 1,
   "metadata": {},
   "outputs": [
    {
     "name": "stdout",
     "output_type": "stream",
     "text": [
      "vikash chauhan\n"
     ]
    }
   ],
   "source": [
    "my_string =\"vikash chauhan\"\n",
    "print(my_string)\n",
    "#1"
   ]
  },
  {
   "cell_type": "code",
   "execution_count": 3,
   "metadata": {},
   "outputs": [
    {
     "name": "stdout",
     "output_type": "stream",
     "text": [
      "35\n"
     ]
    }
   ],
   "source": [
    "my_string = \"lucknow is capital of uttar pradesh\"\n",
    "print(len(my_string))\n",
    "#2"
   ]
  },
  {
   "cell_type": "code",
   "execution_count": 1,
   "metadata": {},
   "outputs": [
    {
     "name": "stdout",
     "output_type": "stream",
     "text": [
      " great\n"
     ]
    }
   ],
   "source": [
    "my_string = \"python is great\"\n",
    "print(my_string[9:])\n",
    "m = my_string.split()[-1:] # this is use to find last word of any sentance\n",
    "#3"
   ]
  },
  {
   "cell_type": "code",
   "execution_count": 3,
   "metadata": {},
   "outputs": [
    {
     "name": "stdout",
     "output_type": "stream",
     "text": [
      "python\n",
      "is\n",
      "every\n",
      "where\n"
     ]
    }
   ],
   "source": [
    "msg='python is every where'\n",
    "for word in msg.split():\n",
    "    print(word)\n",
    "    #4\n"
   ]
  },
  {
   "cell_type": "code",
   "execution_count": 4,
   "metadata": {},
   "outputs": [
    {
     "name": "stdout",
     "output_type": "stream",
     "text": [
      "!dlrow olleh\n"
     ]
    }
   ],
   "source": [
    "m ='hello world!'\n",
    "r = m [::-1] # reverse the string\n",
    "print(r)\n",
    "#5"
   ]
  },
  {
   "cell_type": "code",
   "execution_count": 5,
   "metadata": {},
   "outputs": [
    {
     "data": {
      "text/plain": [
       "'world! hello'"
      ]
     },
     "execution_count": 5,
     "metadata": {},
     "output_type": "execute_result"
    }
   ],
   "source": [
    "\" \".join(m.split()[::-1])"
   ]
  },
  {
   "cell_type": "code",
   "execution_count": 1,
   "metadata": {},
   "outputs": [
    {
     "name": "stdout",
     "output_type": "stream",
     "text": [
      "HOW ARE YOU ?\n"
     ]
    }
   ],
   "source": [
    "v = 'how are you ?'\n",
    "kl = v.upper()\n",
    "print(kl)"
   ]
  },
  {
   "cell_type": "code",
   "execution_count": 2,
   "metadata": {},
   "outputs": [
    {
     "name": "stdout",
     "output_type": "stream",
     "text": [
      "how is it going ?\n"
     ]
    }
   ],
   "source": [
    "r = 'HOW IS IT GOING ?'\n",
    "KK = r.lower()\n",
    "print(KK)"
   ]
  },
  {
   "cell_type": "code",
   "execution_count": 4,
   "metadata": {},
   "outputs": [
    {
     "name": "stdout",
     "output_type": "stream",
     "text": [
      "python____is____easy____to____learn\n"
     ]
    }
   ],
   "source": [
    "words = ['python','is','easy','to','learn']\n",
    "ff = '____'.join(words)\n",
    "print(ff)"
   ]
  },
  {
   "cell_type": "code",
   "execution_count": 7,
   "metadata": {},
   "outputs": [
    {
     "name": "stdout",
     "output_type": "stream",
     "text": [
      "Print this string to move to newline '\n",
      "' is used. (results should look exactly like the provided string)\n",
      "Print a variable with some text using a single print function, output should look like following\n"
     ]
    }
   ],
   "source": [
    "#9\n",
    "css = '''Print this string to move to newline '\\n' is used. (results should look exactly like the provided string)\n",
    "Print a variable with some text using a single print function, output should look like following'''\n",
    "print(css)"
   ]
  },
  {
   "cell_type": "code",
   "execution_count": 8,
   "metadata": {},
   "outputs": [
    {
     "name": "stdout",
     "output_type": "stream",
     "text": [
      "to move to newline '\\n ' is used.\n"
     ]
    }
   ],
   "source": [
    "s = r\"to move to newline '\\n ' is used.\"\n",
    "print(s)"
   ]
  },
  {
   "cell_type": "code",
   "execution_count": 9,
   "metadata": {},
   "outputs": [
    {
     "data": {
      "text/plain": [
       "'####################'"
      ]
     },
     "execution_count": 9,
     "metadata": {},
     "output_type": "execute_result"
    }
   ],
   "source": [
    "'#'* 20"
   ]
  },
  {
   "cell_type": "code",
   "execution_count": 11,
   "metadata": {},
   "outputs": [
    {
     "data": {
      "text/plain": [
       "7"
      ]
     },
     "execution_count": 11,
     "metadata": {},
     "output_type": "execute_result"
    }
   ],
   "source": [
    "s ='seventy seven is not seen in the list'\n",
    "s.count('e')"
   ]
  },
  {
   "cell_type": "code",
   "execution_count": 12,
   "metadata": {},
   "outputs": [
    {
     "name": "stdout",
     "output_type": "stream",
     "text": [
      "this is not a good string\n"
     ]
    }
   ],
   "source": [
    "text = '   this is not a good string     '\n",
    "print(text.strip())\n"
   ]
  },
  {
   "cell_type": "code",
   "execution_count": null,
   "metadata": {},
   "outputs": [],
   "source": [
    "data = input (\" khuch bhi lihko =>\")\n",
    "if data.isnumeric():\n",
    "    print('entyer your number')\n",
    "else"
   ]
  },
  {
   "cell_type": "code",
   "execution_count": 13,
   "metadata": {},
   "outputs": [
    {
     "name": "stdout",
     "output_type": "stream",
     "text": [
      "fwedfwrf\n"
     ]
    }
   ],
   "source": [
    "#20\n",
    "data = input('kuch bhi likho')\n",
    "print(data)\n",
    "for c in data:\n",
    "    if c.isupper():\n",
    "        print('found')"
   ]
  },
  {
   "cell_type": "code",
   "execution_count": 19,
   "metadata": {},
   "outputs": [
    {
     "name": "stdout",
     "output_type": "stream",
     "text": [
      "thisaye isaye someaye textaye "
     ]
    }
   ],
   "source": [
    "text = 'this is some text '\n",
    "for word in text.split():\n",
    "    print(word+\"aye\",end=\" \")\n",
    "    #22"
   ]
  },
  {
   "cell_type": "code",
   "execution_count": 18,
   "metadata": {},
   "outputs": [
    {
     "data": {
      "text/plain": [
       "['fdfd', 'fewf', 'efew', 'ewfewf', 'ewfew']"
      ]
     },
     "execution_count": 18,
     "metadata": {},
     "output_type": "execute_result"
    }
   ],
   "source": [
    "#21\n",
    "name= 'fdfd,fewf,efew,ewfewf,ewfew'\n",
    "name.split(',')"
   ]
  },
  {
   "cell_type": "code",
   "execution_count": 22,
   "metadata": {},
   "outputs": [
    {
     "name": "stdout",
     "output_type": "stream",
     "text": [
      "p34y!-!t68hon404\n"
     ]
    }
   ],
   "source": [
    "#24\n",
    "text = '%p34@y!*-*!t68h#&on404'\n",
    "spe= '~@#$%^&*()_+<>?\":{}\"'\n",
    "for char in spe:\n",
    "    text = text.replace(char, \"\")\n",
    "print(text)    "
   ]
  },
  {
   "cell_type": "code",
   "execution_count": 23,
   "metadata": {},
   "outputs": [
    {
     "name": "stdout",
     "output_type": "stream",
     "text": [
      "!\"#$%&'()*+,-./:;<=>?@[\\]^_`{|}~\n"
     ]
    }
   ],
   "source": [
    "from string import punctuation\n",
    "\n",
    "from pyparsing import punc8bit\n",
    "print(punctuation)"
   ]
  },
  {
   "cell_type": "code",
   "execution_count": 24,
   "metadata": {},
   "outputs": [
    {
     "name": "stdout",
     "output_type": "stream",
     "text": [
      "avearge word size => 5\n"
     ]
    }
   ],
   "source": [
    "paragraph = 'this is a paragraph which is written just for the purpose of providing content to let the average word length be calculated'\n",
    "words = paragraph.split()\n",
    "total_words = len(words)\n",
    "wlt = 0\n",
    "for word in words:\n",
    "    wlt += len(word)\n",
    "print('avearge word size =>', round(wlt/total_words))"
   ]
  },
  {
   "cell_type": "code",
   "execution_count": 25,
   "metadata": {},
   "outputs": [
    {
     "name": "stdout",
     "output_type": "stream",
     "text": [
      "4 this\n",
      "6 is\n",
      "7 a\n",
      "16 paragraph\n",
      "21 which\n",
      "23 is\n",
      "30 written\n",
      "34 just\n",
      "37 for\n",
      "40 the\n",
      "47 purpose\n",
      "49 of\n",
      "58 providing\n",
      "65 content\n",
      "67 to\n",
      "70 let\n",
      "73 the\n",
      "80 average\n",
      "84 word\n",
      "90 length\n",
      "92 be\n",
      "102 calculated\n",
      "avearge word size => 5\n"
     ]
    }
   ],
   "source": [
    "paragraph = 'this is a paragraph which is written just for the purpose of providing content to let the average word length be calculated'\n",
    "words = paragraph.split()\n",
    "total_words = len(words)\n",
    "wlt = 0\n",
    "for word in words:\n",
    "    wlt += len(word)\n",
    "    print(wlt,word)\n",
    "print('avearge word size =>', round(wlt/total_words))"
   ]
  },
  {
   "cell_type": "code",
   "execution_count": 3,
   "metadata": {},
   "outputs": [
    {
     "data": {
      "text/plain": [
       "'##'"
      ]
     },
     "execution_count": 3,
     "metadata": {},
     "output_type": "execute_result"
    }
   ],
   "source": [
    "'''##'''"
   ]
  },
  {
   "cell_type": "code",
   "execution_count": null,
   "metadata": {},
   "outputs": [],
   "source": []
  }
 ],
 "metadata": {
  "kernelspec": {
   "display_name": "Python 3.9.12 ('base')",
   "language": "python",
   "name": "python3"
  },
  "language_info": {
   "codemirror_mode": {
    "name": "ipython",
    "version": 3
   },
   "file_extension": ".py",
   "mimetype": "text/x-python",
   "name": "python",
   "nbconvert_exporter": "python",
   "pygments_lexer": "ipython3",
   "version": "3.9.12 (main, Apr  4 2022, 05:22:27) [MSC v.1916 64 bit (AMD64)]"
  },
  "orig_nbformat": 4,
  "vscode": {
   "interpreter": {
    "hash": "f85b9146c22f560b5e4e393e9773a498e0028d70d0712436c8dae0e49710cb35"
   }
  }
 },
 "nbformat": 4,
 "nbformat_minor": 2
}
