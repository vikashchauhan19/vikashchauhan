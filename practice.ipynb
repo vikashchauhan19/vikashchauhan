{
 "cells": [
  {
   "cell_type": "code",
   "execution_count": 5,
   "metadata": {},
   "outputs": [
    {
     "name": "stdout",
     "output_type": "stream",
     "text": [
      "1200\n",
      "<class 'int'>\n"
     ]
    }
   ],
   "source": [
    "one_hour = 60 # minutes\n",
    "hours = 20\n",
    "minutes = int(one_hour*hours)\n",
    "print(minutes)\n",
    "print(type(minutes))"
   ]
  },
  {
   "cell_type": "code",
   "execution_count": 7,
   "metadata": {},
   "outputs": [
    {
     "name": "stdout",
     "output_type": "stream",
     "text": [
      "the number is even : 66\n"
     ]
    }
   ],
   "source": [
    "x = int(input('Enter any number'))\n",
    "if x%2 == 0:\n",
    "    print('the number is even :',x)\n",
    "else:\n",
    "    print('the number is odd:',x)"
   ]
  },
  {
   "cell_type": "code",
   "execution_count": null,
   "metadata": {},
   "outputs": [
    {
     "name": "stdout",
     "output_type": "stream",
     "text": [
      "1\n",
      "3\n",
      "5\n",
      "55\n",
      "7\n",
      "9\n"
     ]
    }
   ],
   "source": [
    "# list for odd number output\n",
    "x = [1,2,3,6,5,4,66,55,7,8,9]\n",
    "\n",
    "for msg in x:\n",
    "    if msg % 2!=0:\n",
    "        print(msg )"
   ]
  },
  {
   "cell_type": "code",
   "execution_count": 19,
   "metadata": {},
   "outputs": [
    {
     "name": "stdout",
     "output_type": "stream",
     "text": [
      "244\n"
     ]
    }
   ],
   "source": [
    "# list & calculate all number\n",
    "numbers = [1,2,3,6,5,47,8,9,65,2,3,6,6,6,6,9,9,9,9,9,8,8,8]\n",
    "x = 0\n",
    "for i in numbers:\n",
    "    x+=i\n",
    "    \n",
    "print(x)"
   ]
  },
  {
   "cell_type": "code",
   "execution_count": null,
   "metadata": {},
   "outputs": [],
   "source": [
    "# print odd index number\n",
    "num = [2,3,65,45,8,6,5,9,5,65,6,6]\n",
    "\n"
   ]
  }
 ],
 "metadata": {
  "kernelspec": {
   "display_name": "Python 3.9.12 ('base')",
   "language": "python",
   "name": "python3"
  },
  "language_info": {
   "codemirror_mode": {
    "name": "ipython",
    "version": 3
   },
   "file_extension": ".py",
   "mimetype": "text/x-python",
   "name": "python",
   "nbconvert_exporter": "python",
   "pygments_lexer": "ipython3",
   "version": "3.9.12"
  },
  "orig_nbformat": 4,
  "vscode": {
   "interpreter": {
    "hash": "f85b9146c22f560b5e4e393e9773a498e0028d70d0712436c8dae0e49710cb35"
   }
  }
 },
 "nbformat": 4,
 "nbformat_minor": 2
}
