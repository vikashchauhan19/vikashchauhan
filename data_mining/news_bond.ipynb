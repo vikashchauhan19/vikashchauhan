{
 "cells": [
  {
   "cell_type": "code",
   "execution_count": 13,
   "metadata": {},
   "outputs": [],
   "source": [
    "import requests\n",
    "from bs4 import BeautifulSoup"
   ]
  },
  {
   "cell_type": "code",
   "execution_count": 14,
   "metadata": {},
   "outputs": [
    {
     "name": "stdout",
     "output_type": "stream",
     "text": [
      "Status 200\n"
     ]
    }
   ],
   "source": [
    "url = 'https://www.bbc.com/news/world'\n",
    "page = requests.get(url)\n",
    "print('Status',page.status_code)"
   ]
  },
  {
   "cell_type": "code",
   "execution_count": null,
   "metadata": {},
   "outputs": [],
   "source": [
    "print(page.text)"
   ]
  },
  {
   "cell_type": "code",
   "execution_count": 16,
   "metadata": {},
   "outputs": [],
   "source": [
    "soup = BeautifulSoup(page.text)     # use for data mining"
   ]
  },
  {
   "cell_type": "code",
   "execution_count": 17,
   "metadata": {},
   "outputs": [
    {
     "data": {
      "text/plain": [
       "\"The US wants to play in China's backyard\""
      ]
     },
     "execution_count": 17,
     "metadata": {},
     "output_type": "execute_result"
    }
   ],
   "source": [
    "headings = soup.find_all('h3')\n",
    "headings[2].text"
   ]
  },
  {
   "cell_type": "code",
   "execution_count": null,
   "metadata": {},
   "outputs": [],
   "source": [
    "for heading in headings:   # find the heading only from the web side of news\n",
    "    print(heading.text)"
   ]
  },
  {
   "cell_type": "code",
   "execution_count": 19,
   "metadata": {},
   "outputs": [],
   "source": [
    "#function to get the news from the url as soup object\n",
    "def get(url):\n",
    "    page = requests.get(url)\n",
    "    if page.status_code ==200:\n",
    "        return BeautifulSoup(page.text)\n",
    "    else:\n",
    "        print('Error:', page.status_code)\n",
    "        return"
   ]
  },
  {
   "cell_type": "code",
   "execution_count": 20,
   "metadata": {},
   "outputs": [],
   "source": [
    "url = 'https://www.ndtv.com/latest'\n",
    "\n",
    "soup = get(url)"
   ]
  },
  {
   "cell_type": "code",
   "execution_count": 21,
   "metadata": {},
   "outputs": [
    {
     "name": "stdout",
     "output_type": "stream",
     "text": [
      "target found\n"
     ]
    }
   ],
   "source": [
    "# 1. get the targeted section\n",
    "target = soup.find('div', class_= 'lisingNews')\n",
    "if target is not None:\n",
    "    print('target found')\n",
    "else:\n",
    "    print('target not found')"
   ]
  },
  {
   "cell_type": "code",
   "execution_count": 22,
   "metadata": {},
   "outputs": [
    {
     "name": "stdout",
     "output_type": "stream",
     "text": [
      "total news: 17\n"
     ]
    }
   ],
   "source": [
    "# 2. get all the news heading fr0om the targeted section \n",
    "news = target.find_all('div',class_ = 'news_Itm')\n",
    "print('total news:',len(news)) "
   ]
  },
  {
   "cell_type": "code",
   "execution_count": null,
   "metadata": {},
   "outputs": [],
   "source": [
    "# 3.extract the news heading from the targeted section\n",
    "for n in news:\n",
    "    print(n.text)"
   ]
  },
  {
   "cell_type": "code",
   "execution_count": 24,
   "metadata": {},
   "outputs": [],
   "source": [
    "def get(url):\n",
    "    page = requests.get(url)\n",
    "    if page.status_code ==200:\n",
    "        return BeautifulSoup(page.text)\n",
    "    else:\n",
    "        print('Error:', page.status_code)"
   ]
  },
  {
   "cell_type": "code",
   "execution_count": 1,
   "metadata": {},
   "outputs": [
    {
     "ename": "NameError",
     "evalue": "name 'get' is not defined",
     "output_type": "error",
     "traceback": [
      "\u001b[1;31m---------------------------------------------------------------------------\u001b[0m",
      "\u001b[1;31mNameError\u001b[0m                                 Traceback (most recent call last)",
      "\u001b[1;32md:\\digipython13sep\\data_mining\\news_bond.ipynb Cell 13\u001b[0m in \u001b[0;36m<cell line: 2>\u001b[1;34m()\u001b[0m\n\u001b[0;32m      <a href='vscode-notebook-cell:/d%3A/digipython13sep/data_mining/news_bond.ipynb#X15sZmlsZQ%3D%3D?line=0'>1</a>\u001b[0m url \u001b[39m=\u001b[39m\u001b[39m'\u001b[39m\u001b[39m https://www.amazon.in/s?k=laptop+bags&i=computers&rh=n\u001b[39m\u001b[39m%\u001b[39m\u001b[39m3A976392031\u001b[39m\u001b[39m%\u001b[39m\u001b[39m2Cp_89\u001b[39m\u001b[39m%\u001b[39m\u001b[39m3AWildHorn&dc&ds=v1\u001b[39m\u001b[39m%\u001b[39m\u001b[39m3Axz0RFFKrwJipXMN4\u001b[39m\u001b[39m%\u001b[39m\u001b[39m2B\u001b[39m\u001b[39m%2F\u001b[39;00m\u001b[39mcbLc\u001b[39m\u001b[39m%2F\u001b[39;00m\u001b[39m142qI1VmL1gJL6tQB8\u001b[39m\u001b[39m%\u001b[39m\u001b[39m2Bg&crid=3TBIH5DPGBGSD&qid=1668073255&rnid=3837712031&sprefix=laptop+bags\u001b[39m\u001b[39m%\u001b[39m\u001b[39m2Ccomputers\u001b[39m\u001b[39m%\u001b[39m\u001b[39m2C321&ref=sr_nr_p_89_6\u001b[39m\u001b[39m'\u001b[39m\n\u001b[1;32m----> <a href='vscode-notebook-cell:/d%3A/digipython13sep/data_mining/news_bond.ipynb#X15sZmlsZQ%3D%3D?line=1'>2</a>\u001b[0m soup \u001b[39m=\u001b[39m (get)\n",
      "\u001b[1;31mNameError\u001b[0m: name 'get' is not defined"
     ]
    }
   ],
   "source": [
    "url =' https://www.amazon.in/s?k=laptop+bags&i=computers&rh=n%3A976392031%2Cp_89%3AWildHorn&dc&ds=v1%3Axz0RFFKrwJipXMN4%2B%2FcbLc%2F142qI1VmL1gJL6tQB8%2Bg&crid=3TBIH5DPGBGSD&qid=1668073255&rnid=3837712031&sprefix=laptop+bags%2Ccomputers%2C321&ref=sr_nr_p_89_6'\n",
    "soup = (get)"
   ]
  },
  {
   "cell_type": "code",
   "execution_count": 26,
   "metadata": {},
   "outputs": [
    {
     "ename": "AttributeError",
     "evalue": "'function' object has no attribute 'find'",
     "output_type": "error",
     "traceback": [
      "\u001b[1;31m---------------------------------------------------------------------------\u001b[0m",
      "\u001b[1;31mAttributeError\u001b[0m                            Traceback (most recent call last)",
      "\u001b[1;32md:\\digipython13sep\\data_mining\\news_bond.ipynb Cell 14\u001b[0m in \u001b[0;36m<cell line: 1>\u001b[1;34m()\u001b[0m\n\u001b[1;32m----> <a href='vscode-notebook-cell:/d%3A/digipython13sep/data_mining/news_bond.ipynb#X15sZmlsZQ%3D%3D?line=0'>1</a>\u001b[0m target \u001b[39m=\u001b[39m soup\u001b[39m.\u001b[39;49mfind(\u001b[39m'\u001b[39m\u001b[39mdiv\u001b[39m\u001b[39m'\u001b[39m, class_\u001b[39m=\u001b[39m \u001b[39m'\u001b[39m\u001b[39msg-col-inner\u001b[39m\u001b[39m'\u001b[39m )\n\u001b[0;32m      <a href='vscode-notebook-cell:/d%3A/digipython13sep/data_mining/news_bond.ipynb#X15sZmlsZQ%3D%3D?line=1'>2</a>\u001b[0m \u001b[39mif\u001b[39;00m target \u001b[39mis\u001b[39;00m \u001b[39mnot\u001b[39;00m \u001b[39mNone\u001b[39;00m:\n\u001b[0;32m      <a href='vscode-notebook-cell:/d%3A/digipython13sep/data_mining/news_bond.ipynb#X15sZmlsZQ%3D%3D?line=2'>3</a>\u001b[0m     \u001b[39mprint\u001b[39m(\u001b[39m'\u001b[39m\u001b[39mtarget found\u001b[39m\u001b[39m'\u001b[39m)\n",
      "\u001b[1;31mAttributeError\u001b[0m: 'function' object has no attribute 'find'"
     ]
    }
   ],
   "source": [
    "target = soup.find('div', class_= 'sg-col-inner' )\n",
    "if target is not None:\n",
    "    print('target found')\n",
    "else:\n",
    "    print('target not found')"
   ]
  },
  {
   "cell_type": "code",
   "execution_count": null,
   "metadata": {},
   "outputs": [],
   "source": []
  },
  {
   "cell_type": "code",
   "execution_count": null,
   "metadata": {},
   "outputs": [],
   "source": []
  }
 ],
 "metadata": {
  "kernelspec": {
   "display_name": "Python 3.9.12 ('base')",
   "language": "python",
   "name": "python3"
  },
  "language_info": {
   "codemirror_mode": {
    "name": "ipython",
    "version": 3
   },
   "file_extension": ".py",
   "mimetype": "text/x-python",
   "name": "python",
   "nbconvert_exporter": "python",
   "pygments_lexer": "ipython3",
   "version": "3.9.12"
  },
  "orig_nbformat": 4,
  "vscode": {
   "interpreter": {
    "hash": "f85b9146c22f560b5e4e393e9773a498e0028d70d0712436c8dae0e49710cb35"
   }
  }
 },
 "nbformat": 4,
 "nbformat_minor": 2
}
