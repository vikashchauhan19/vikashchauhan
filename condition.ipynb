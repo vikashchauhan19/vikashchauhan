{
 "cells": [
  {
   "cell_type": "code",
   "execution_count": 1,
   "metadata": {},
   "outputs": [],
   "source": [
    "a =10\n",
    "b =3"
   ]
  },
  {
   "cell_type": "code",
   "execution_count": 3,
   "metadata": {},
   "outputs": [
    {
     "name": "stdout",
     "output_type": "stream",
     "text": [
      "Okay\n",
      " I undarstand the value\n"
     ]
    }
   ],
   "source": [
    "if a > 5 :\n",
    "    print(\"Okay\")\n",
    "    print(\" I undarstand the value\")"
   ]
  },
  {
   "cell_type": "code",
   "execution_count": 5,
   "metadata": {},
   "outputs": [],
   "source": [
    "if a < 5 : \n",
    "    print(\"Okay\")\n",
    "    print(\" Every thing okay\")"
   ]
  },
  {
   "cell_type": "code",
   "execution_count": 3,
   "metadata": {},
   "outputs": [
    {
     "ename": "ValueError",
     "evalue": "invalid literal for int() with base 10: ''",
     "output_type": "error",
     "traceback": [
      "\u001b[1;31m---------------------------------------------------------------------------\u001b[0m",
      "\u001b[1;31mValueError\u001b[0m                                Traceback (most recent call last)",
      "\u001b[1;32md:\\digipython13sep\\condition.ipynb Cell 4\u001b[0m in \u001b[0;36m<cell line: 1>\u001b[1;34m()\u001b[0m\n\u001b[1;32m----> <a href='vscode-notebook-cell:/d%3A/digipython13sep/condition.ipynb#W3sZmlsZQ%3D%3D?line=0'>1</a>\u001b[0m a \u001b[39m=\u001b[39m  \u001b[39mint\u001b[39;49m(\u001b[39minput\u001b[39;49m(\u001b[39m\"\u001b[39;49m\u001b[39menter the number:\u001b[39;49m\u001b[39m\"\u001b[39;49m))\n\u001b[0;32m      <a href='vscode-notebook-cell:/d%3A/digipython13sep/condition.ipynb#W3sZmlsZQ%3D%3D?line=1'>2</a>\u001b[0m \u001b[39mif\u001b[39;00m a \u001b[39m>\u001b[39m \u001b[39m50\u001b[39m :\n\u001b[0;32m      <a href='vscode-notebook-cell:/d%3A/digipython13sep/condition.ipynb#W3sZmlsZQ%3D%3D?line=2'>3</a>\u001b[0m     a \u001b[39m+\u001b[39m\u001b[39m=\u001b[39m \u001b[39m10\u001b[39m \n",
      "\u001b[1;31mValueError\u001b[0m: invalid literal for int() with base 10: ''"
     ]
    }
   ],
   "source": [
    "a =  int(input(\"enter the number:\"))\n",
    "if a > 50 :\n",
    "    a += 10 \n",
    "    print(f'The value of A: {a}')"
   ]
  },
  {
   "cell_type": "code",
   "execution_count": 10,
   "metadata": {},
   "outputs": [
    {
     "name": "stdout",
     "output_type": "stream",
     "text": [
      "the 65 +3 = 68\n",
      "if value of A =65  then this true value\n"
     ]
    }
   ],
   "source": [
    "result= f'the {a} +{b} = {a+b}'\n",
    "print(result)\n",
    "print(f'if value of A ={a} ', 'then this true value')"
   ]
  },
  {
   "cell_type": "code",
   "execution_count": 15,
   "metadata": {},
   "outputs": [
    {
     "name": "stdout",
     "output_type": "stream",
     "text": [
      " Okay\n"
     ]
    }
   ],
   "source": [
    "if a >=b :\n",
    "    print(' Okay')\n",
    "else:\n",
    "  print('Bad')"
   ]
  },
  {
   "cell_type": "code",
   "execution_count": 2,
   "metadata": {},
   "outputs": [
    {
     "name": "stdout",
     "output_type": "stream",
     "text": [
      " 66 is even\n"
     ]
    }
   ],
   "source": [
    "number = int(input('Enter any number '))\n",
    "\n",
    "if number%2 == 0:\n",
    "    print(f' {number} is even')\n",
    "else:\n",
    "    print(f' {number} is odd')"
   ]
  },
  {
   "cell_type": "code",
   "execution_count": 1,
   "metadata": {},
   "outputs": [
    {
     "name": "stdout",
     "output_type": "stream",
     "text": [
      " 55 is not divisible by 5 and 7 both\n"
     ]
    }
   ],
   "source": [
    "# check if the number is divisible by 5 and 7 \n",
    "number = int (input('Enter a number'))\n",
    "\n",
    "if number % 5 == 0 and number % 7 == 0 :\n",
    "    print(f' {number} is divisible by 5 and 7 both')\n",
    "else :\n",
    "    print(f' {number} is not divisible by 5 and 7 both')"
   ]
  },
  {
   "cell_type": "code",
   "execution_count": null,
   "metadata": {},
   "outputs": [],
   "source": []
  },
  {
   "cell_type": "code",
   "execution_count": null,
   "metadata": {},
   "outputs": [],
   "source": [
    "35"
   ]
  }
 ],
 "metadata": {
  "kernelspec": {
   "display_name": "Python 3.9.12 ('base')",
   "language": "python",
   "name": "python3"
  },
  "language_info": {
   "codemirror_mode": {
    "name": "ipython",
    "version": 3
   },
   "file_extension": ".py",
   "mimetype": "text/x-python",
   "name": "python",
   "nbconvert_exporter": "python",
   "pygments_lexer": "ipython3",
   "version": "3.9.12"
  },
  "orig_nbformat": 4,
  "vscode": {
   "interpreter": {
    "hash": "f85b9146c22f560b5e4e393e9773a498e0028d70d0712436c8dae0e49710cb35"
   }
  }
 },
 "nbformat": 4,
 "nbformat_minor": 2
}
