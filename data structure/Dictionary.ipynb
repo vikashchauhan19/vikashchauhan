{
 "cells": [
  {
   "cell_type": "code",
   "execution_count": 1,
   "metadata": {},
   "outputs": [],
   "source": [
    "x = ['Ravi Prakash',100,22,226022,'lucknow','Regional manager',True,False]\n"
   ]
  },
  {
   "cell_type": "code",
   "execution_count": 2,
   "metadata": {},
   "outputs": [],
   "source": [
    "data = {'name':'Ravi prakash','eid':100,'age':22,'pincode':226022,'city':'lucknow','desig':'Regional manger','is_married':True,'have_children': True}"
   ]
  },
  {
   "cell_type": "code",
   "execution_count": 3,
   "metadata": {},
   "outputs": [
    {
     "name": "stdout",
     "output_type": "stream",
     "text": [
      "{'name': 'Ravi prakash', 'eid': 100, 'age': 22, 'pincode': 226022, 'city': 'lucknow', 'desig': 'Regional manger', 'is_married': True, 'have_children': True}\n"
     ]
    }
   ],
   "source": [
    "print(data)"
   ]
  },
  {
   "cell_type": "code",
   "execution_count": 4,
   "metadata": {},
   "outputs": [
    {
     "data": {
      "text/plain": [
       "'Regional manger'"
      ]
     },
     "execution_count": 4,
     "metadata": {},
     "output_type": "execute_result"
    }
   ],
   "source": [
    "data['desig']"
   ]
  },
  {
   "cell_type": "code",
   "execution_count": 5,
   "metadata": {},
   "outputs": [],
   "source": [
    "data['age']=23\n"
   ]
  },
  {
   "cell_type": "code",
   "execution_count": 6,
   "metadata": {},
   "outputs": [
    {
     "data": {
      "text/plain": [
       "'Ravi prakash'"
      ]
     },
     "execution_count": 6,
     "metadata": {},
     "output_type": "execute_result"
    }
   ],
   "source": [
    "data['name']"
   ]
  },
  {
   "cell_type": "code",
   "execution_count": 7,
   "metadata": {},
   "outputs": [
    {
     "data": {
      "text/plain": [
       "'lucknow'"
      ]
     },
     "execution_count": 7,
     "metadata": {},
     "output_type": "execute_result"
    }
   ],
   "source": [
    "data['city']"
   ]
  },
  {
   "cell_type": "code",
   "execution_count": 8,
   "metadata": {},
   "outputs": [
    {
     "data": {
      "text/plain": [
       "{'name': 'Ravi prakash',\n",
       " 'eid': 100,\n",
       " 'age': 23,\n",
       " 'pincode': 226022,\n",
       " 'city': 'lucknow',\n",
       " 'desig': 'Regional manger',\n",
       " 'is_married': True,\n",
       " 'have_children': True}"
      ]
     },
     "execution_count": 8,
     "metadata": {},
     "output_type": "execute_result"
    }
   ],
   "source": [
    "data\n"
   ]
  },
  {
   "cell_type": "code",
   "execution_count": 9,
   "metadata": {},
   "outputs": [],
   "source": [
    "data['name'] = 'vikash chauhan'\n",
    "data['eid']\n",
    "data['pincode']= 226014 #update\n",
    "data['desig']='data analyst'"
   ]
  },
  {
   "cell_type": "code",
   "execution_count": 10,
   "metadata": {},
   "outputs": [
    {
     "data": {
      "text/plain": [
       "{'name': 'vikash chauhan',\n",
       " 'eid': 100,\n",
       " 'age': 23,\n",
       " 'pincode': 226014,\n",
       " 'city': 'lucknow',\n",
       " 'desig': 'data analyst',\n",
       " 'is_married': True,\n",
       " 'have_children': True}"
      ]
     },
     "execution_count": 10,
     "metadata": {},
     "output_type": "execute_result"
    }
   ],
   "source": [
    "data"
   ]
  },
  {
   "cell_type": "code",
   "execution_count": 11,
   "metadata": {},
   "outputs": [],
   "source": [
    "data['dept']='sale'  #adding data"
   ]
  },
  {
   "cell_type": "code",
   "execution_count": 13,
   "metadata": {},
   "outputs": [
    {
     "data": {
      "text/plain": [
       "{'name': 'vikash chauhan',\n",
       " 'eid': 100,\n",
       " 'age': 23,\n",
       " 'pincode': 226014,\n",
       " 'city': 'lucknow',\n",
       " 'desig': 'data analyst',\n",
       " 'is_married': True,\n",
       " 'have_children': True,\n",
       " 'dept': 'sale'}"
      ]
     },
     "execution_count": 13,
     "metadata": {},
     "output_type": "execute_result"
    }
   ],
   "source": [
    "data"
   ]
  },
  {
   "cell_type": "code",
   "execution_count": 14,
   "metadata": {},
   "outputs": [
    {
     "data": {
      "text/plain": [
       "True"
      ]
     },
     "execution_count": 14,
     "metadata": {},
     "output_type": "execute_result"
    }
   ],
   "source": [
    "data.pop('is_married')  #remove"
   ]
  },
  {
   "cell_type": "code",
   "execution_count": 15,
   "metadata": {},
   "outputs": [
    {
     "name": "stdout",
     "output_type": "stream",
     "text": [
      "name\n",
      "eid\n",
      "age\n",
      "pincode\n",
      "city\n",
      "desig\n",
      "have_children\n",
      "dept\n"
     ]
    }
   ],
   "source": [
    "# basic loop \n",
    "for i in data:\n",
    "    print(i)"
   ]
  },
  {
   "cell_type": "code",
   "execution_count": 16,
   "metadata": {},
   "outputs": [
    {
     "name": "stdout",
     "output_type": "stream",
     "text": [
      "name vikash chauhan\n",
      "eid 100\n",
      "age 23\n",
      "pincode 226014\n",
      "city lucknow\n",
      "desig data analyst\n",
      "have_children True\n",
      "dept sale\n"
     ]
    }
   ],
   "source": [
    "# actual loop\n",
    "for k,v in data.items():\n",
    "    print(k,v)"
   ]
  },
  {
   "cell_type": "code",
   "execution_count": 17,
   "metadata": {},
   "outputs": [
    {
     "name": "stdout",
     "output_type": "stream",
     "text": [
      "name vikash chauhan\n",
      "eid 100\n",
      "age 23\n",
      "pincode 226014\n",
      "city lucknow\n",
      "desig data analyst\n",
      "have_children True\n",
      "dept sale\n"
     ]
    }
   ],
   "source": [
    "# this also wprks\n",
    "for i in data:\n",
    "    print(i,data[i])"
   ]
  },
  {
   "cell_type": "code",
   "execution_count": 19,
   "metadata": {},
   "outputs": [
    {
     "name": "stdout",
     "output_type": "stream",
     "text": [
      "[1, 2, 3, 6, 5, 4, 7, 8, 9]\n",
      "[2, 6, 4, 8]\n"
     ]
    }
   ],
   "source": [
    "#odd indexes from lists\n",
    "x =[1,2,3,6,5,4,7,8,9]\n",
    "x_odd =x[1::2]\n",
    "print(x)\n",
    "print(x_odd)"
   ]
  },
  {
   "cell_type": "code",
   "execution_count": 21,
   "metadata": {},
   "outputs": [
    {
     "name": "stdout",
     "output_type": "stream",
     "text": [
      "[2, 6, 4, 8]\n"
     ]
    }
   ],
   "source": [
    "x =[1,2,3,6,5,4,7,8,9]\n",
    "x_odd =[]\n",
    "for i,v in enumerate(x):\n",
    "    if i%2 !=0:\n",
    "        x_odd.append(v)\n",
    "print(x_odd)\n",
    "\n"
   ]
  },
  {
   "cell_type": "code",
   "execution_count": 22,
   "metadata": {},
   "outputs": [
    {
     "name": "stdout",
     "output_type": "stream",
     "text": [
      "{'vikash': '95', 'viakd': '6554', 'sakdj': '6545sadf', 'adsd': '55sad', 'adas': 'sasadsa'}\n"
     ]
    }
   ],
   "source": [
    "user_data = {}  # empty\n",
    "for i in range(5):\n",
    "    key = input(\"enter name?\")\n",
    "    value = input('Enter value?')\n",
    "    user_data[key]=value\n",
    "\n",
    "print(user_data)\n"
   ]
  },
  {
   "cell_type": "code",
   "execution_count": 4,
   "metadata": {},
   "outputs": [],
   "source": [
    "# store student marks in a dict\n",
    "report ={\n",
    "    'Raja':{\n",
    "        'eng':[50,80],\n",
    "        'maths':[75,80],\n",
    "        'hindi':[45,80],\n",
    "    },\n",
    "    'Rani':{\n",
    "        'eng':[49,54],\n",
    "        'maths':[55,68],\n",
    "        'hindi':[58,80],\n",
    "    }    \n",
    "\n",
    "\n",
    "}"
   ]
  },
  {
   "cell_type": "code",
   "execution_count": 26,
   "metadata": {},
   "outputs": [
    {
     "name": "stdout",
     "output_type": "stream",
     "text": [
      "{'Raja': {'eng': [50, 80], 'maths': [75, 80], 'hindi': [45, 80], 'Comp': [50, 66]}, 'Rani': {'eng': [49, 54], 'maths': [55, 68], 'hindi': [58, 80]}}\n"
     ]
    }
   ],
   "source": [
    "report['Raja']['Comp']=[50,66] # add data\n",
    "print(report)"
   ]
  },
  {
   "cell_type": "code",
   "execution_count": 6,
   "metadata": {},
   "outputs": [
    {
     "data": {
      "text/plain": [
       "80"
      ]
     },
     "execution_count": 6,
     "metadata": {},
     "output_type": "execute_result"
    }
   ],
   "source": [
    "report['Rani']['hindi'][1]"
   ]
  },
  {
   "cell_type": "code",
   "execution_count": 30,
   "metadata": {},
   "outputs": [
    {
     "name": "stdout",
     "output_type": "stream",
     "text": [
      "Raja\n",
      "=>eng =sasadsa\n",
      "=>maths =sasadsa\n",
      "=>hindi =sasadsa\n",
      "=>Comp =sasadsa\n",
      "Rani\n",
      "=>eng =sasadsa\n",
      "=>maths =sasadsa\n",
      "=>hindi =sasadsa\n"
     ]
    }
   ],
   "source": [
    "for name,marks in report.items():\n",
    "    print(name)\n",
    "    for siubject, val in marks.items():\n",
    "        print(f'=>{siubject} ={value}')"
   ]
  },
  {
   "cell_type": "code",
   "execution_count": 5,
   "metadata": {},
   "outputs": [
    {
     "name": "stdout",
     "output_type": "stream",
     "text": [
      "Raja {'eng': [50, 80], 'maths': [75, 80], 'hindi': [45, 80]}\n",
      "Rani {'eng': [49, 54], 'maths': [55, 68], 'hindi': [58, 80]}\n"
     ]
    }
   ],
   "source": [
    "for name,marks in report.items():\n",
    "    print(name, marks)"
   ]
  },
  {
   "cell_type": "code",
   "execution_count": 1,
   "metadata": {},
   "outputs": [
    {
     "ename": "NameError",
     "evalue": "name 'name' is not defined",
     "output_type": "error",
     "traceback": [
      "\u001b[1;31m---------------------------------------------------------------------------\u001b[0m",
      "\u001b[1;31mNameError\u001b[0m                                 Traceback (most recent call last)",
      "\u001b[1;32md:\\digipython13sep\\data structure\\Dictionary.ipynb Cell 25\u001b[0m in \u001b[0;36m<cell line: 5>\u001b[1;34m()\u001b[0m\n\u001b[0;32m      <a href='vscode-notebook-cell:/d%3A/digipython13sep/data%20structure/Dictionary.ipynb#X33sZmlsZQ%3D%3D?line=4'>5</a>\u001b[0m \u001b[39mfor\u001b[39;00m value \u001b[39min\u001b[39;00m contact\u001b[39m.\u001b[39mitems():\n\u001b[0;32m      <a href='vscode-notebook-cell:/d%3A/digipython13sep/data%20structure/Dictionary.ipynb#X33sZmlsZQ%3D%3D?line=5'>6</a>\u001b[0m     key \u001b[39m=\u001b[39m \u001b[39minput\u001b[39m(\u001b[39m'\u001b[39m\u001b[39mEnter name\u001b[39m\u001b[39m'\u001b[39m)\n\u001b[1;32m----> <a href='vscode-notebook-cell:/d%3A/digipython13sep/data%20structure/Dictionary.ipynb#X33sZmlsZQ%3D%3D?line=6'>7</a>\u001b[0m     \u001b[39mif\u001b[39;00m name \u001b[39min\u001b[39;00m value:\n\u001b[0;32m      <a href='vscode-notebook-cell:/d%3A/digipython13sep/data%20structure/Dictionary.ipynb#X33sZmlsZQ%3D%3D?line=7'>8</a>\u001b[0m         \u001b[39mprint\u001b[39m(\u001b[39m'\u001b[39m\u001b[39mname\u001b[39m\u001b[39m'\u001b[39m)\n",
      "\u001b[1;31mNameError\u001b[0m: name 'name' is not defined"
     ]
    }
   ],
   "source": [
    "# wap to creat dictionary, which will have some names and phone numbers. The user can search for name throughh input.if the name is in dictionary, then display the phone number else, ask the user to add number of person by him/her self.contact={police 112, hospital 109}\n",
    "\n",
    "contact = {'police': 112 , 'hospitral': 109, 'firehouse': 101}\n",
    "\n",
    "for value in contact.items():\n",
    "    key = input('Enter name')\n",
    "    if name in value:\n",
    "        print('name')"
   ]
  },
  {
   "cell_type": "code",
   "execution_count": null,
   "metadata": {},
   "outputs": [],
   "source": []
  }
 ],
 "metadata": {
  "kernelspec": {
   "display_name": "Python 3.9.12 ('base')",
   "language": "python",
   "name": "python3"
  },
  "language_info": {
   "codemirror_mode": {
    "name": "ipython",
    "version": 3
   },
   "file_extension": ".py",
   "mimetype": "text/x-python",
   "name": "python",
   "nbconvert_exporter": "python",
   "pygments_lexer": "ipython3",
   "version": "3.9.12"
  },
  "orig_nbformat": 4,
  "vscode": {
   "interpreter": {
    "hash": "f85b9146c22f560b5e4e393e9773a498e0028d70d0712436c8dae0e49710cb35"
   }
  }
 },
 "nbformat": 4,
 "nbformat_minor": 2
}
